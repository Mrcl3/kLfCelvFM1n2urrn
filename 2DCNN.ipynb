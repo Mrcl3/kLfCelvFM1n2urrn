{
  "cells": [
    {
      "attachments": {},
      "cell_type": "markdown",
      "metadata": {
        "id": "9w3skq5edU4P"
      },
      "source": [
        "# 2D CNN\n"
      ]
    },
    {
      "cell_type": "code",
      "execution_count": 68,
      "metadata": {},
      "outputs": [
        {
          "name": "stdout",
          "output_type": "stream",
          "text": [
            "^C\n"
          ]
        }
      ],
      "source": [
        "!pip install tensorflow"
      ]
    },
    {
      "cell_type": "code",
      "execution_count": 1,
      "metadata": {
        "id": "Qb2uSyKh24DS"
      },
      "outputs": [],
      "source": [
        "import numpy as np\n",
        "import tensorflow as tf\n",
        "from sklearn.model_selection import train_test_split\n",
        "from sklearn.preprocessing import LabelEncoder\n",
        "from tensorflow.keras.preprocessing.image import ImageDataGenerator\n",
        "import glob\n",
        "from tensorflow.keras.optimizers import SGD\n",
        "from tensorflow.keras.layers import Dense, Flatten, Conv2D, MaxPool2D, Activation, Rescaling, BatchNormalization, Conv3D, MaxPool3D, Dropout\n",
        "from sklearn.metrics import f1_score\n",
        "import tensorflow.keras as keras\n"
      ]
    },
    {
      "attachments": {},
      "cell_type": "markdown",
      "metadata": {
        "id": "0YqnkQaO3T5k"
      },
      "source": [
        "## Declaring the repositories with images"
      ]
    },
    {
      "cell_type": "code",
      "execution_count": 2,
      "metadata": {
        "id": "b5H1KmZ_27Mk"
      },
      "outputs": [],
      "source": [
        "# Assuming your image folder is called 'dataset' and contains two subfolders: 'flipped' and 'noflipped'\n",
        "flipped_dir = r'C:\\Users\\mbajd\\Downloads\\images\\images\\training\\flip'\n",
        "noflipped_dir = r'C:\\Users\\mbajd\\Downloads\\images\\images\\training\\notflip'\n",
        "test_dir = r'C:\\Users\\mbajd\\Downloads\\images\\images\\testing'"
      ]
    },
    {
      "attachments": {},
      "cell_type": "markdown",
      "metadata": {
        "id": "rMcrfp8a3QVj"
      },
      "source": [
        "## Loading the images for training"
      ]
    },
    {
      "cell_type": "code",
      "execution_count": 3,
      "metadata": {
        "id": "ZRiKu44J2961"
      },
      "outputs": [],
      "source": [
        "# Load the image paths from the 'flipped' and 'noflipped' subfolders\n",
        "flipped_images = glob.glob(flipped_dir + '/*.jpg')  # Assuming your images have the .jpg extension\n",
        "noflipped_images = glob.glob(noflipped_dir + '/*.jpg')\n",
        "\n",
        "# Assuming you have your labels as 'flipped' and 'noflipped'\n",
        "flipped_labels = ['flip'] * len(flipped_images)\n",
        "noflipped_labels = ['noflip'] * len(noflipped_images)\n",
        "\n",
        "# Concatenate the flipped and noflipped images and labels\n",
        "images = flipped_images + noflipped_images\n",
        "labels = flipped_labels + noflipped_labels\n"
      ]
    },
    {
      "attachments": {},
      "cell_type": "markdown",
      "metadata": {
        "id": "K6rP6qiF3beW"
      },
      "source": [
        "## Organizing train and test data"
      ]
    },
    {
      "cell_type": "code",
      "execution_count": 88,
      "metadata": {
        "id": "8ZzfJOjc3ZbS"
      },
      "outputs": [],
      "source": [
        "# Split the dataset into training, validation, and test sets\n",
        "train_images, val_images, train_labels, val_labels = train_test_split(images, labels, test_size=0.2, random_state=42)\n",
        "\n",
        "# Load the test images and labels\n",
        "test_flipped_images = glob.glob(test_dir + '/flip/*.jpg')\n",
        "test_noflipped_images = glob.glob(test_dir + '/notflip/*.jpg')\n",
        "\n",
        "test_images = test_flipped_images + test_noflipped_images\n",
        "test_labels = ['flip'] * len(test_flipped_images) + ['noflip'] * len(test_noflipped_images)"
      ]
    },
    {
      "attachments": {},
      "cell_type": "markdown",
      "metadata": {
        "id": "W-eBdwor3gCq"
      },
      "source": [
        "## Data preprocessing"
      ]
    },
    {
      "cell_type": "code",
      "execution_count": null,
      "metadata": {
        "id": "6iMFPPxr4BE3"
      },
      "outputs": [],
      "source": [
        "input_shape = (32, 32, 3)\n",
        "\n",
        "# Convert labels to binary representation (0 for flipped, 1 for noflipped)\n",
        "label_encoder = LabelEncoder()\n",
        "train_labels = label_encoder.fit_transform(train_labels)\n",
        "val_labels = label_encoder.transform(val_labels)\n",
        "test_labels = label_encoder.transform(test_labels)\n",
        "\n",
        "# Preprocess function\n",
        "def preprocess_image(image_path):\n",
        "    image = tf.io.read_file(image_path)\n",
        "    image = tf.image.decode_jpeg(image, channels=3)\n",
        "    image = tf.image.resize(image, input_shape[:2])\n",
        "    image = image / 255.0  # Normalize pixel values\n",
        "    return image\n",
        "\n",
        "# Load and preprocess the training, validation, and test images\n",
        "train_images = np.array([preprocess_image(image_path) for image_path in train_images])\n",
        "val_images = np.array([preprocess_image(image_path) for image_path in val_images])\n",
        "test_images = np.array([preprocess_image(image_path) for image_path in test_images])"
      ]
    },
    {
      "attachments": {},
      "cell_type": "markdown",
      "metadata": {
        "id": "cu8Tuerg4Ej_"
      },
      "source": [
        "## ImageDataGenerator"
      ]
    },
    {
      "cell_type": "code",
      "execution_count": null,
      "metadata": {},
      "outputs": [],
      "source": [
        "batch_size = 128\n",
        "train_datagen = ImageDataGenerator(\n",
        "    rotation_range=10,\n",
        "    width_shift_range=0.1,\n",
        "    height_shift_range=0.1,\n",
        "    #horizontal_flip=True\n",
        ")\n",
        "train_generator = train_datagen.flow(train_images, train_labels, batch_size=batch_size)"
      ]
    },
    {
      "attachments": {},
      "cell_type": "markdown",
      "metadata": {
        "id": "OMrXEEt-4I8O"
      },
      "source": [
        "## Model definition"
      ]
    },
    {
      "cell_type": "code",
      "execution_count": null,
      "metadata": {
        "id": "7ehx_uxN4OCN"
      },
      "outputs": [],
      "source": [
        "model = tf.keras.Sequential([\n",
        "    tf.keras.layers.Conv2D(32, (3, 3), activation='relu', input_shape=input_shape),\n",
        "    tf.keras.layers.MaxPooling2D((2, 2)),\n",
        "    tf.keras.layers.Conv2D(64, (3, 3), activation='relu'),\n",
        "    tf.keras.layers.MaxPooling2D((2, 2)),\n",
        "    tf.keras.layers.Conv2D(128, (3, 3), activation='relu'),\n",
        "    tf.keras.layers.MaxPooling2D((2, 2)),\n",
        "    tf.keras.layers.MaxPool2D(2,2),\n",
        "    tf.keras.layers.Flatten(),\n",
        "    tf.keras.layers.Dense(512, activation='relu'),\n",
        "    tf.keras.layers.Dropout(0.5),\n",
        "    tf.keras.layers.Dense(256, activation='relu'),\n",
        "    tf.keras.layers.Dropout(0.5),\n",
        "    tf.keras.layers.Dense(128, activation='relu'),\n",
        "    tf.keras.layers.Dense(1, activation='sigmoid')  # Output neuron for binary classification\n",
        "])"
      ]
    },
    {
      "attachments": {},
      "cell_type": "markdown",
      "metadata": {
        "id": "8mJkK_RD4Pgo"
      },
      "source": [
        "## Model summary"
      ]
    },
    {
      "cell_type": "code",
      "execution_count": null,
      "metadata": {
        "colab": {
          "base_uri": "https://localhost:8080/"
        },
        "id": "JdEQN9bo4Rho",
        "outputId": "66e85e79-79fe-465e-dfbd-7708ccb36850"
      },
      "outputs": [
        {
          "name": "stdout",
          "output_type": "stream",
          "text": [
            "Model: \"sequential\"\n",
            "_________________________________________________________________\n",
            " Layer (type)                Output Shape              Param #   \n",
            "=================================================================\n",
            " conv2d (Conv2D)             (None, 30, 30, 32)        896       \n",
            "                                                                 \n",
            " max_pooling2d (MaxPooling2D  (None, 15, 15, 32)       0         \n",
            " )                                                               \n",
            "                                                                 \n",
            " conv2d_1 (Conv2D)           (None, 13, 13, 64)        18496     \n",
            "                                                                 \n",
            " max_pooling2d_1 (MaxPooling  (None, 6, 6, 64)         0         \n",
            " 2D)                                                             \n",
            "                                                                 \n",
            " conv2d_2 (Conv2D)           (None, 4, 4, 128)         73856     \n",
            "                                                                 \n",
            " max_pooling2d_2 (MaxPooling  (None, 2, 2, 128)        0         \n",
            " 2D)                                                             \n",
            "                                                                 \n",
            " max_pooling2d_3 (MaxPooling  (None, 1, 1, 128)        0         \n",
            " 2D)                                                             \n",
            "                                                                 \n",
            " flatten (Flatten)           (None, 128)               0         \n",
            "                                                                 \n",
            " dense (Dense)               (None, 512)               66048     \n",
            "                                                                 \n",
            " dropout (Dropout)           (None, 512)               0         \n",
            "                                                                 \n",
            " dense_1 (Dense)             (None, 256)               131328    \n",
            "                                                                 \n",
            " dropout_1 (Dropout)         (None, 256)               0         \n",
            "                                                                 \n",
            " dense_2 (Dense)             (None, 128)               32896     \n",
            "                                                                 \n",
            " dense_3 (Dense)             (None, 1)                 129       \n",
            "                                                                 \n",
            "=================================================================\n",
            "Total params: 323,649\n",
            "Trainable params: 323,649\n",
            "Non-trainable params: 0\n",
            "_________________________________________________________________\n"
          ]
        }
      ],
      "source": [
        "model.summary()"
      ]
    },
    {
      "attachments": {},
      "cell_type": "markdown",
      "metadata": {
        "id": "5YM0xSXC4Vyw"
      },
      "source": [
        "## Model compilation"
      ]
    },
    {
      "cell_type": "code",
      "execution_count": null,
      "metadata": {
        "colab": {
          "base_uri": "https://localhost:8080/"
        },
        "id": "bQkEo0JRfjNB",
        "outputId": "a216daf9-0516-426a-cd30-5ec4965e92d4"
      },
      "outputs": [
        {
          "name": "stdout",
          "output_type": "stream",
          "text": [
            "Epoch 1/80\n",
            "15/15 [==============================] - 4s 154ms/step - loss: 0.6931 - binary_accuracy: 0.5013 - val_loss: 0.6920 - val_binary_accuracy: 0.5240\n",
            "Epoch 2/80\n",
            "15/15 [==============================] - 3s 221ms/step - loss: 0.6922 - binary_accuracy: 0.5165 - val_loss: 0.6920 - val_binary_accuracy: 0.5240\n",
            "Epoch 3/80\n",
            "15/15 [==============================] - 4s 255ms/step - loss: 0.6927 - binary_accuracy: 0.5102 - val_loss: 0.6918 - val_binary_accuracy: 0.5240\n",
            "Epoch 4/80\n",
            "15/15 [==============================] - 5s 324ms/step - loss: 0.6922 - binary_accuracy: 0.5159 - val_loss: 0.6912 - val_binary_accuracy: 0.5240\n",
            "Epoch 5/80\n",
            "15/15 [==============================] - 5s 325ms/step - loss: 0.6918 - binary_accuracy: 0.5165 - val_loss: 0.6908 - val_binary_accuracy: 0.5240\n",
            "Epoch 6/80\n",
            "15/15 [==============================] - 4s 226ms/step - loss: 0.6932 - binary_accuracy: 0.5144 - val_loss: 0.6912 - val_binary_accuracy: 0.5240\n",
            "Epoch 7/80\n",
            "15/15 [==============================] - 3s 183ms/step - loss: 0.6924 - binary_accuracy: 0.5170 - val_loss: 0.6907 - val_binary_accuracy: 0.5240\n",
            "Epoch 8/80\n",
            "15/15 [==============================] - 3s 169ms/step - loss: 0.6922 - binary_accuracy: 0.5196 - val_loss: 0.6905 - val_binary_accuracy: 0.5240\n",
            "Epoch 9/80\n",
            "15/15 [==============================] - 3s 173ms/step - loss: 0.6917 - binary_accuracy: 0.5144 - val_loss: 0.6902 - val_binary_accuracy: 0.5240\n",
            "Epoch 10/80\n",
            "15/15 [==============================] - 3s 178ms/step - loss: 0.6912 - binary_accuracy: 0.5254 - val_loss: 0.6899 - val_binary_accuracy: 0.5240\n",
            "Epoch 11/80\n",
            "15/15 [==============================] - 3s 169ms/step - loss: 0.6908 - binary_accuracy: 0.5264 - val_loss: 0.6892 - val_binary_accuracy: 0.5240\n",
            "Epoch 12/80\n",
            "15/15 [==============================] - 3s 219ms/step - loss: 0.6895 - binary_accuracy: 0.5238 - val_loss: 0.6886 - val_binary_accuracy: 0.5240\n",
            "Epoch 13/80\n",
            "15/15 [==============================] - 4s 235ms/step - loss: 0.6899 - binary_accuracy: 0.5489 - val_loss: 0.6881 - val_binary_accuracy: 0.5574\n",
            "Epoch 14/80\n",
            "15/15 [==============================] - 3s 180ms/step - loss: 0.6895 - binary_accuracy: 0.5452 - val_loss: 0.6871 - val_binary_accuracy: 0.5595\n",
            "Epoch 15/80\n",
            "15/15 [==============================] - 3s 183ms/step - loss: 0.6891 - binary_accuracy: 0.5536 - val_loss: 0.6855 - val_binary_accuracy: 0.5637\n",
            "Epoch 16/80\n",
            "15/15 [==============================] - 3s 195ms/step - loss: 0.6895 - binary_accuracy: 0.5374 - val_loss: 0.6840 - val_binary_accuracy: 0.6180\n",
            "Epoch 17/80\n",
            "15/15 [==============================] - 3s 194ms/step - loss: 0.6874 - binary_accuracy: 0.5672 - val_loss: 0.6820 - val_binary_accuracy: 0.6054\n",
            "Epoch 18/80\n",
            "15/15 [==============================] - 3s 189ms/step - loss: 0.6859 - binary_accuracy: 0.5677 - val_loss: 0.6799 - val_binary_accuracy: 0.6409\n",
            "Epoch 19/80\n",
            "15/15 [==============================] - 3s 181ms/step - loss: 0.6829 - binary_accuracy: 0.5964 - val_loss: 0.6785 - val_binary_accuracy: 0.7537\n",
            "Epoch 20/80\n",
            "15/15 [==============================] - 3s 205ms/step - loss: 0.6813 - binary_accuracy: 0.6116 - val_loss: 0.6724 - val_binary_accuracy: 0.7578\n",
            "Epoch 21/80\n",
            "15/15 [==============================] - 3s 195ms/step - loss: 0.6787 - binary_accuracy: 0.6048 - val_loss: 0.6657 - val_binary_accuracy: 0.7223\n",
            "Epoch 22/80\n",
            "15/15 [==============================] - 3s 178ms/step - loss: 0.6734 - binary_accuracy: 0.6210 - val_loss: 0.6576 - val_binary_accuracy: 0.6639\n",
            "Epoch 23/80\n",
            "15/15 [==============================] - 3s 182ms/step - loss: 0.6652 - binary_accuracy: 0.6451 - val_loss: 0.6412 - val_binary_accuracy: 0.6827\n",
            "Epoch 24/80\n",
            "15/15 [==============================] - 3s 222ms/step - loss: 0.6528 - binary_accuracy: 0.6566 - val_loss: 0.6215 - val_binary_accuracy: 0.7411\n",
            "Epoch 25/80\n",
            "15/15 [==============================] - 3s 219ms/step - loss: 0.6402 - binary_accuracy: 0.6681 - val_loss: 0.6005 - val_binary_accuracy: 0.6952\n",
            "Epoch 26/80\n",
            "15/15 [==============================] - 4s 254ms/step - loss: 0.6061 - binary_accuracy: 0.7026 - val_loss: 0.5698 - val_binary_accuracy: 0.7537\n",
            "Epoch 27/80\n",
            "15/15 [==============================] - 3s 230ms/step - loss: 0.5870 - binary_accuracy: 0.7177 - val_loss: 0.5435 - val_binary_accuracy: 0.7432\n",
            "Epoch 28/80\n",
            "15/15 [==============================] - 3s 218ms/step - loss: 0.5889 - binary_accuracy: 0.6932 - val_loss: 0.5469 - val_binary_accuracy: 0.7411\n",
            "Epoch 29/80\n",
            "15/15 [==============================] - 3s 204ms/step - loss: 0.5950 - binary_accuracy: 0.6926 - val_loss: 0.5251 - val_binary_accuracy: 0.7537\n",
            "Epoch 30/80\n",
            "15/15 [==============================] - 3s 184ms/step - loss: 0.5865 - binary_accuracy: 0.6843 - val_loss: 0.6849 - val_binary_accuracy: 0.6242\n",
            "Epoch 31/80\n",
            "15/15 [==============================] - 3s 167ms/step - loss: 0.5957 - binary_accuracy: 0.6827 - val_loss: 0.5159 - val_binary_accuracy: 0.7704\n",
            "Epoch 32/80\n",
            "15/15 [==============================] - 3s 203ms/step - loss: 0.5304 - binary_accuracy: 0.7574 - val_loss: 0.4670 - val_binary_accuracy: 0.7829\n",
            "Epoch 33/80\n",
            "15/15 [==============================] - 3s 221ms/step - loss: 0.4876 - binary_accuracy: 0.7872 - val_loss: 0.4921 - val_binary_accuracy: 0.7829\n",
            "Epoch 34/80\n",
            "15/15 [==============================] - 3s 200ms/step - loss: 0.5298 - binary_accuracy: 0.7386 - val_loss: 0.4830 - val_binary_accuracy: 0.7766\n",
            "Epoch 35/80\n",
            "15/15 [==============================] - 2s 162ms/step - loss: 0.4750 - binary_accuracy: 0.7789 - val_loss: 0.3842 - val_binary_accuracy: 0.8455\n",
            "Epoch 36/80\n",
            "15/15 [==============================] - 3s 189ms/step - loss: 0.4549 - binary_accuracy: 0.7846 - val_loss: 0.3968 - val_binary_accuracy: 0.8225\n",
            "Epoch 37/80\n",
            "15/15 [==============================] - 3s 213ms/step - loss: 0.4330 - binary_accuracy: 0.8055 - val_loss: 0.3240 - val_binary_accuracy: 0.8768\n",
            "Epoch 38/80\n",
            "15/15 [==============================] - 3s 181ms/step - loss: 0.3809 - binary_accuracy: 0.8395 - val_loss: 0.3685 - val_binary_accuracy: 0.8518\n",
            "Epoch 39/80\n",
            "15/15 [==============================] - 3s 208ms/step - loss: 0.3853 - binary_accuracy: 0.8395 - val_loss: 0.4117 - val_binary_accuracy: 0.8100\n",
            "Epoch 40/80\n",
            "15/15 [==============================] - 3s 219ms/step - loss: 0.3503 - binary_accuracy: 0.8510 - val_loss: 0.3844 - val_binary_accuracy: 0.8288\n",
            "Epoch 41/80\n",
            "15/15 [==============================] - 4s 228ms/step - loss: 0.4242 - binary_accuracy: 0.8102 - val_loss: 0.2986 - val_binary_accuracy: 0.8831\n",
            "Epoch 42/80\n",
            "15/15 [==============================] - 3s 229ms/step - loss: 0.3320 - binary_accuracy: 0.8651 - val_loss: 0.3847 - val_binary_accuracy: 0.8476\n",
            "Epoch 43/80\n",
            "15/15 [==============================] - 3s 177ms/step - loss: 0.2873 - binary_accuracy: 0.8944 - val_loss: 0.2786 - val_binary_accuracy: 0.8956\n",
            "Epoch 44/80\n",
            "15/15 [==============================] - 3s 161ms/step - loss: 0.2991 - binary_accuracy: 0.8881 - val_loss: 0.2445 - val_binary_accuracy: 0.8977\n",
            "Epoch 45/80\n",
            "15/15 [==============================] - 2s 160ms/step - loss: 0.2532 - binary_accuracy: 0.9002 - val_loss: 0.2870 - val_binary_accuracy: 0.9040\n",
            "Epoch 46/80\n",
            "15/15 [==============================] - 3s 185ms/step - loss: 0.2570 - binary_accuracy: 0.9007 - val_loss: 0.2128 - val_binary_accuracy: 0.9144\n",
            "Epoch 47/80\n",
            "15/15 [==============================] - 2s 161ms/step - loss: 0.2213 - binary_accuracy: 0.9169 - val_loss: 0.3103 - val_binary_accuracy: 0.8935\n",
            "Epoch 48/80\n",
            "15/15 [==============================] - 3s 172ms/step - loss: 0.2467 - binary_accuracy: 0.9049 - val_loss: 0.2694 - val_binary_accuracy: 0.8998\n",
            "Epoch 49/80\n",
            "15/15 [==============================] - 3s 177ms/step - loss: 0.2340 - binary_accuracy: 0.9049 - val_loss: 0.2065 - val_binary_accuracy: 0.9144\n",
            "Epoch 50/80\n",
            "15/15 [==============================] - 3s 218ms/step - loss: 0.2644 - binary_accuracy: 0.8918 - val_loss: 0.2030 - val_binary_accuracy: 0.9144\n",
            "Epoch 51/80\n",
            "15/15 [==============================] - 3s 210ms/step - loss: 0.2183 - binary_accuracy: 0.9111 - val_loss: 0.1947 - val_binary_accuracy: 0.9311\n",
            "Epoch 52/80\n",
            "15/15 [==============================] - 2s 158ms/step - loss: 0.2393 - binary_accuracy: 0.9022 - val_loss: 0.2503 - val_binary_accuracy: 0.8956\n",
            "Epoch 53/80\n",
            "15/15 [==============================] - 2s 156ms/step - loss: 0.2285 - binary_accuracy: 0.9064 - val_loss: 0.1935 - val_binary_accuracy: 0.9123\n",
            "Epoch 54/80\n",
            "15/15 [==============================] - 3s 175ms/step - loss: 0.1896 - binary_accuracy: 0.9284 - val_loss: 0.1537 - val_binary_accuracy: 0.9374\n",
            "Epoch 55/80\n",
            "15/15 [==============================] - 3s 172ms/step - loss: 0.1698 - binary_accuracy: 0.9383 - val_loss: 0.2482 - val_binary_accuracy: 0.9102\n",
            "Epoch 56/80\n",
            "15/15 [==============================] - 3s 227ms/step - loss: 0.1799 - binary_accuracy: 0.9326 - val_loss: 0.1491 - val_binary_accuracy: 0.9395\n",
            "Epoch 57/80\n",
            "15/15 [==============================] - 3s 177ms/step - loss: 0.2208 - binary_accuracy: 0.9232 - val_loss: 0.2065 - val_binary_accuracy: 0.9102\n",
            "Epoch 58/80\n",
            "15/15 [==============================] - 4s 306ms/step - loss: 0.1848 - binary_accuracy: 0.9279 - val_loss: 0.1876 - val_binary_accuracy: 0.9269\n",
            "Epoch 59/80\n",
            "15/15 [==============================] - 6s 370ms/step - loss: 0.1799 - binary_accuracy: 0.9300 - val_loss: 0.1384 - val_binary_accuracy: 0.9395\n",
            "Epoch 60/80\n",
            "15/15 [==============================] - 7s 436ms/step - loss: 0.1587 - binary_accuracy: 0.9425 - val_loss: 0.1810 - val_binary_accuracy: 0.9311\n",
            "Epoch 61/80\n",
            "15/15 [==============================] - 7s 421ms/step - loss: 0.1498 - binary_accuracy: 0.9399 - val_loss: 0.2286 - val_binary_accuracy: 0.9228\n",
            "Epoch 62/80\n",
            "15/15 [==============================] - 5s 343ms/step - loss: 0.1161 - binary_accuracy: 0.9571 - val_loss: 0.1360 - val_binary_accuracy: 0.9353\n",
            "Epoch 63/80\n",
            "15/15 [==============================] - 4s 258ms/step - loss: 0.1400 - binary_accuracy: 0.9482 - val_loss: 0.1762 - val_binary_accuracy: 0.9395\n",
            "Epoch 64/80\n",
            "15/15 [==============================] - 3s 204ms/step - loss: 0.1389 - binary_accuracy: 0.9482 - val_loss: 0.1469 - val_binary_accuracy: 0.9395\n",
            "Epoch 65/80\n",
            "15/15 [==============================] - 2s 158ms/step - loss: 0.1324 - binary_accuracy: 0.9503 - val_loss: 0.1397 - val_binary_accuracy: 0.9395\n",
            "Epoch 66/80\n",
            "15/15 [==============================] - 3s 174ms/step - loss: 0.1614 - binary_accuracy: 0.9373 - val_loss: 0.1183 - val_binary_accuracy: 0.9499\n",
            "Epoch 67/80\n",
            "15/15 [==============================] - 3s 219ms/step - loss: 0.1037 - binary_accuracy: 0.9603 - val_loss: 0.1265 - val_binary_accuracy: 0.9436\n",
            "Epoch 68/80\n",
            "15/15 [==============================] - 3s 209ms/step - loss: 0.1141 - binary_accuracy: 0.9603 - val_loss: 0.1187 - val_binary_accuracy: 0.9541\n",
            "Epoch 69/80\n",
            "15/15 [==============================] - 3s 177ms/step - loss: 0.1053 - binary_accuracy: 0.9618 - val_loss: 0.0955 - val_binary_accuracy: 0.9624\n",
            "Epoch 70/80\n",
            "15/15 [==============================] - 2s 164ms/step - loss: 0.1379 - binary_accuracy: 0.9503 - val_loss: 0.1433 - val_binary_accuracy: 0.9374\n",
            "Epoch 71/80\n",
            "15/15 [==============================] - 2s 162ms/step - loss: 0.1449 - binary_accuracy: 0.9488 - val_loss: 0.3035 - val_binary_accuracy: 0.8956\n",
            "Epoch 72/80\n",
            "15/15 [==============================] - 3s 168ms/step - loss: 0.1147 - binary_accuracy: 0.9597 - val_loss: 0.0977 - val_binary_accuracy: 0.9666\n",
            "Epoch 73/80\n",
            "15/15 [==============================] - 3s 213ms/step - loss: 0.0923 - binary_accuracy: 0.9665 - val_loss: 0.1039 - val_binary_accuracy: 0.9541\n",
            "Epoch 74/80\n",
            "15/15 [==============================] - 3s 204ms/step - loss: 0.1306 - binary_accuracy: 0.9535 - val_loss: 0.1487 - val_binary_accuracy: 0.9311\n",
            "Epoch 75/80\n",
            "15/15 [==============================] - 3s 178ms/step - loss: 0.0959 - binary_accuracy: 0.9624 - val_loss: 0.0950 - val_binary_accuracy: 0.9624\n",
            "Epoch 76/80\n",
            "15/15 [==============================] - 3s 178ms/step - loss: 0.0876 - binary_accuracy: 0.9697 - val_loss: 0.1100 - val_binary_accuracy: 0.9541\n",
            "Epoch 77/80\n",
            "15/15 [==============================] - 3s 178ms/step - loss: 0.1061 - binary_accuracy: 0.9629 - val_loss: 0.0826 - val_binary_accuracy: 0.9687\n",
            "Epoch 78/80\n",
            "15/15 [==============================] - 3s 171ms/step - loss: 0.1225 - binary_accuracy: 0.9519 - val_loss: 0.0873 - val_binary_accuracy: 0.9582\n",
            "Epoch 79/80\n",
            "15/15 [==============================] - 3s 181ms/step - loss: 0.0909 - binary_accuracy: 0.9697 - val_loss: 0.1144 - val_binary_accuracy: 0.9562\n",
            "Epoch 80/80\n",
            "15/15 [==============================] - 2s 141ms/step - loss: 0.0848 - binary_accuracy: 0.9692 - val_loss: 0.1228 - val_binary_accuracy: 0.9520\n",
            "19/19 [==============================] - 0s 9ms/step - loss: 0.1078 - binary_accuracy: 0.9648\n",
            "Test loss: 0.10784848034381866\n"
          ]
        }
      ],
      "source": [
        "# Model Compilation\n",
        "optimizer = SGD(learning_rate=0.01, momentum=0.9)\n",
        "model.compile(optimizer=optimizer,\n",
        "              loss='binary_crossentropy',\n",
        "              metrics=['binary_accuracy'])\n",
        "\n",
        "#Model Training\n",
        "epochs = 80\n",
        "model.fit(train_generator, epochs=epochs, validation_data=(val_images, val_labels))\n",
        "\n",
        "# Model Evaluation\n",
        "test_loss, test_acc = model.evaluate(test_images, test_labels)\n",
        "print('Test loss:', test_loss)"
      ]
    },
    {
      "attachments": {},
      "cell_type": "markdown",
      "metadata": {
        "id": "ieIqwQet4e2N"
      },
      "source": [
        "## Make predictions on the test images"
      ]
    },
    {
      "cell_type": "code",
      "execution_count": null,
      "metadata": {
        "colab": {
          "base_uri": "https://localhost:8080/"
        },
        "id": "lFyQEp0JtcEd",
        "outputId": "224f84a3-a7c1-4863-acc2-51a63af038c9"
      },
      "outputs": [
        {
          "name": "stdout",
          "output_type": "stream",
          "text": [
            "19/19 [==============================] - 1s 11ms/step\n"
          ]
        }
      ],
      "source": [
        "test_predictions = model.predict(test_images)\n",
        "test_predictions = (test_predictions > 0.5).astype(int).flatten()\n"
      ]
    },
    {
      "attachments": {},
      "cell_type": "markdown",
      "metadata": {
        "id": "NKOsj-W64gms"
      },
      "source": [
        "## Classification report"
      ]
    },
    {
      "cell_type": "code",
      "execution_count": null,
      "metadata": {
        "colab": {
          "base_uri": "https://localhost:8080/"
        },
        "id": "Lqtay4QmwEEo",
        "outputId": "015119f0-8f3e-4ffe-bfc6-e59c637b8c85"
      },
      "outputs": [
        {
          "name": "stdout",
          "output_type": "stream",
          "text": [
            "              precision    recall  f1-score   support\n",
            "\n",
            "           0       0.99      0.93      0.96       290\n",
            "           1       0.94      0.99      0.97       307\n",
            "\n",
            "    accuracy                           0.96       597\n",
            "   macro avg       0.97      0.96      0.96       597\n",
            "weighted avg       0.97      0.96      0.96       597\n",
            "\n"
          ]
        }
      ],
      "source": [
        "from sklearn.metrics import classification_report\n",
        "\n",
        "print(classification_report(test_labels, test_predictions))"
      ]
    },
    {
      "attachments": {},
      "cell_type": "markdown",
      "metadata": {
        "id": "t4kAPL8Y4iLD"
      },
      "source": [
        "## Confusion matrix"
      ]
    },
    {
      "cell_type": "code",
      "execution_count": null,
      "metadata": {
        "colab": {
          "base_uri": "https://localhost:8080/",
          "height": 564
        },
        "id": "wTVyTt9MxEi5",
        "outputId": "1245ad74-827d-45d1-8579-73f9ec245ef2"
      },
      "outputs": [
        {
          "data": {
            "image/png": "[encoded data removed]",
            "text/plain": [
              "<Figure size 800x600 with 2 Axes>"
            ]
          },
          "metadata": {},
          "output_type": "display_data"
        }
      ],
      "source": [
        "import matplotlib.pyplot as plt\n",
        "import seaborn as sns\n",
        "from sklearn.metrics import confusion_matrix\n",
        "\n",
        "# Compute confusion matrix\n",
        "confusion_mat = confusion_matrix(test_labels, test_predictions)\n",
        "\n",
        "# Create a heatmap plot\n",
        "plt.figure(figsize=(8, 6))\n",
        "sns.heatmap(confusion_mat, annot=True, fmt='d', cmap='Blues')\n",
        "plt.xlabel('Predicted Labels')\n",
        "plt.ylabel('True Labels')\n",
        "plt.title('Confusion Matrix')\n",
        "plt.show()\n"
      ]
    },
    {
      "attachments": {},
      "cell_type": "markdown",
      "metadata": {},
      "source": [
        "# 3DCNN"
      ]
    },
    {
      "cell_type": "code",
      "execution_count": 89,
      "metadata": {},
      "outputs": [],
      "source": [
        "from tensorflow.keras.preprocessing.image import load_img, img_to_array\n",
        "from sklearn.preprocessing import LabelEncoder\n",
        "import numpy as np\n",
        "\n",
        "input_shape = (1,224, 224, 3)\n",
        "# Convert labels to binary representation (0 for flipped, 1 for noflipped)\n",
        "label_encoder = LabelEncoder()\n",
        "train_labels = label_encoder.fit_transform(train_labels)\n",
        "val_labels = label_encoder.transform(val_labels)\n",
        "test_labels = label_encoder.transform(test_labels)\n",
        "\n",
        "def preprocess_image(image_path):\n",
        "    image = load_img(image_path, target_size=input_shape)\n",
        "    image = img_to_array(image)\n",
        "    image = image / 255.0  # Normalize pixel values\n",
        "    return image\n",
        "\n",
        "# Load and preprocess the training, validation, and test images\n",
        "train_images = np.array([preprocess_image(image_path) for image_path in train_images])\n",
        "val_images = np.array([preprocess_image(image_path) for image_path in val_images])\n",
        "test_images = np.array([preprocess_image(image_path) for image_path in test_images])\n"
      ]
    },
    {
      "cell_type": "code",
      "execution_count": 92,
      "metadata": {},
      "outputs": [],
      "source": [
        "batch_size = 128\n",
        "train_datagen = ImageDataGenerator(\n",
        "    rotation_range=10,\n",
        "    width_shift_range=0.1,\n",
        "    height_shift_range=0.1,\n",
        "    #horizontal_flip=True\n",
        ")\n",
        "train_generator = train_datagen.flow(train_images, train_labels, batch_size=batch_size)"
      ]
    },
    {
      "cell_type": "code",
      "execution_count": 22,
      "metadata": {},
      "outputs": [
        {
          "name": "stdout",
          "output_type": "stream",
          "text": [
            "Epoch 1/20\n"
          ]
        },
        {
          "name": "stderr",
          "output_type": "stream",
          "text": [
            "c:\\Users\\mbajd\\AppData\\Local\\Programs\\Python\\Python311\\Lib\\site-packages\\tensorflow\\python\\util\\dispatch.py:1176: SyntaxWarning: In loss categorical_crossentropy, expected y_pred.shape to be (batch_size, num_classes) with num_classes > 1. Received: y_pred.shape=(None, 1). Consider using 'binary_crossentropy' if you only have 2 classes.\n",
            "  return dispatch_target(*args, **kwargs)\n"
          ]
        },
        {
          "ename": "InvalidArgumentError",
          "evalue": "Graph execution error:\n\nDetected at node 'sequential_17/dense_37/Relu' defined at (most recent call last):\n    File \"<frozen runpy>\", line 198, in _run_module_as_main\n    File \"<frozen runpy>\", line 88, in _run_code\n    File \"C:\\Users\\mbajd\\AppData\\Roaming\\Python\\Python311\\site-packages\\ipykernel_launcher.py\", line 17, in <module>\n      app.launch_new_instance()\n    File \"C:\\Users\\mbajd\\AppData\\Roaming\\Python\\Python311\\site-packages\\traitlets\\config\\application.py\", line 1043, in launch_instance\n      app.start()\n    File \"C:\\Users\\mbajd\\AppData\\Roaming\\Python\\Python311\\site-packages\\ipykernel\\kernelapp.py\", line 725, in start\n      self.io_loop.start()\n    File \"C:\\Users\\mbajd\\AppData\\Roaming\\Python\\Python311\\site-packages\\tornado\\platform\\asyncio.py\", line 195, in start\n      self.asyncio_loop.run_forever()\n    File \"c:\\Users\\mbajd\\AppData\\Local\\Programs\\Python\\Python311\\Lib\\asyncio\\base_events.py\", line 607, in run_forever\n      self._run_once()\n    File \"c:\\Users\\mbajd\\AppData\\Local\\Programs\\Python\\Python311\\Lib\\asyncio\\base_events.py\", line 1919, in _run_once\n      handle._run()\n    File \"c:\\Users\\mbajd\\AppData\\Local\\Programs\\Python\\Python311\\Lib\\asyncio\\events.py\", line 80, in _run\n      self._context.run(self._callback, *self._args)\n    File \"C:\\Users\\mbajd\\AppData\\Roaming\\Python\\Python311\\site-packages\\ipykernel\\kernelbase.py\", line 513, in dispatch_queue\n      await self.process_one()\n    File \"C:\\Users\\mbajd\\AppData\\Roaming\\Python\\Python311\\site-packages\\ipykernel\\kernelbase.py\", line 502, in process_one\n      await dispatch(*args)\n    File \"C:\\Users\\mbajd\\AppData\\Roaming\\Python\\Python311\\site-packages\\ipykernel\\kernelbase.py\", line 409, in dispatch_shell\n      await result\n    File \"C:\\Users\\mbajd\\AppData\\Roaming\\Python\\Python311\\site-packages\\ipykernel\\kernelbase.py\", line 729, in execute_request\n      reply_content = await reply_content\n    File \"C:\\Users\\mbajd\\AppData\\Roaming\\Python\\Python311\\site-packages\\ipykernel\\ipkernel.py\", line 422, in do_execute\n      res = shell.run_cell(\n    File \"C:\\Users\\mbajd\\AppData\\Roaming\\Python\\Python311\\site-packages\\ipykernel\\zmqshell.py\", line 540, in run_cell\n      return super().run_cell(*args, **kwargs)\n    File \"C:\\Users\\mbajd\\AppData\\Roaming\\Python\\Python311\\site-packages\\IPython\\core\\interactiveshell.py\", line 3009, in run_cell\n      result = self._run_cell(\n    File \"C:\\Users\\mbajd\\AppData\\Roaming\\Python\\Python311\\site-packages\\IPython\\core\\interactiveshell.py\", line 3064, in _run_cell\n      result = runner(coro)\n    File \"C:\\Users\\mbajd\\AppData\\Roaming\\Python\\Python311\\site-packages\\IPython\\core\\async_helpers.py\", line 129, in _pseudo_sync_runner\n      coro.send(None)\n    File \"C:\\Users\\mbajd\\AppData\\Roaming\\Python\\Python311\\site-packages\\IPython\\core\\interactiveshell.py\", line 3269, in run_cell_async\n      has_raised = await self.run_ast_nodes(code_ast.body, cell_name,\n    File \"C:\\Users\\mbajd\\AppData\\Roaming\\Python\\Python311\\site-packages\\IPython\\core\\interactiveshell.py\", line 3448, in run_ast_nodes\n      if await self.run_code(code, result, async_=asy):\n    File \"C:\\Users\\mbajd\\AppData\\Roaming\\Python\\Python311\\site-packages\\IPython\\core\\interactiveshell.py\", line 3508, in run_code\n      exec(code_obj, self.user_global_ns, self.user_ns)\n    File \"C:\\Users\\mbajd\\AppData\\Local\\Temp\\ipykernel_15252\\1411515583.py\", line 95, in <module>\n      model.fit(train_generator, epochs=epochs, validation_data=(val_images, val_labels))\n    File \"c:\\Users\\mbajd\\AppData\\Local\\Programs\\Python\\Python311\\Lib\\site-packages\\keras\\utils\\traceback_utils.py\", line 65, in error_handler\n      return fn(*args, **kwargs)\n    File \"c:\\Users\\mbajd\\AppData\\Local\\Programs\\Python\\Python311\\Lib\\site-packages\\keras\\engine\\training.py\", line 1685, in fit\n      tmp_logs = self.train_function(iterator)\n    File \"c:\\Users\\mbajd\\AppData\\Local\\Programs\\Python\\Python311\\Lib\\site-packages\\keras\\engine\\training.py\", line 1284, in train_function\n      return step_function(self, iterator)\n    File \"c:\\Users\\mbajd\\AppData\\Local\\Programs\\Python\\Python311\\Lib\\site-packages\\keras\\engine\\training.py\", line 1268, in step_function\n      outputs = model.distribute_strategy.run(run_step, args=(data,))\n    File \"c:\\Users\\mbajd\\AppData\\Local\\Programs\\Python\\Python311\\Lib\\site-packages\\keras\\engine\\training.py\", line 1249, in run_step\n      outputs = model.train_step(data)\n    File \"c:\\Users\\mbajd\\AppData\\Local\\Programs\\Python\\Python311\\Lib\\site-packages\\keras\\engine\\training.py\", line 1050, in train_step\n      y_pred = self(x, training=True)\n    File \"c:\\Users\\mbajd\\AppData\\Local\\Programs\\Python\\Python311\\Lib\\site-packages\\keras\\utils\\traceback_utils.py\", line 65, in error_handler\n      return fn(*args, **kwargs)\n    File \"c:\\Users\\mbajd\\AppData\\Local\\Programs\\Python\\Python311\\Lib\\site-packages\\keras\\engine\\training.py\", line 558, in __call__\n      return super().__call__(*args, **kwargs)\n    File \"c:\\Users\\mbajd\\AppData\\Local\\Programs\\Python\\Python311\\Lib\\site-packages\\keras\\utils\\traceback_utils.py\", line 65, in error_handler\n      return fn(*args, **kwargs)\n    File \"c:\\Users\\mbajd\\AppData\\Local\\Programs\\Python\\Python311\\Lib\\site-packages\\keras\\engine\\base_layer.py\", line 1145, in __call__\n      outputs = call_fn(inputs, *args, **kwargs)\n    File \"c:\\Users\\mbajd\\AppData\\Local\\Programs\\Python\\Python311\\Lib\\site-packages\\keras\\utils\\traceback_utils.py\", line 96, in error_handler\n      return fn(*args, **kwargs)\n    File \"c:\\Users\\mbajd\\AppData\\Local\\Programs\\Python\\Python311\\Lib\\site-packages\\keras\\engine\\sequential.py\", line 412, in call\n      return super().call(inputs, training=training, mask=mask)\n    File \"c:\\Users\\mbajd\\AppData\\Local\\Programs\\Python\\Python311\\Lib\\site-packages\\keras\\engine\\functional.py\", line 512, in call\n      return self._run_internal_graph(inputs, training=training, mask=mask)\n    File \"c:\\Users\\mbajd\\AppData\\Local\\Programs\\Python\\Python311\\Lib\\site-packages\\keras\\engine\\functional.py\", line 669, in _run_internal_graph\n      outputs = node.layer(*args, **kwargs)\n    File \"c:\\Users\\mbajd\\AppData\\Local\\Programs\\Python\\Python311\\Lib\\site-packages\\keras\\utils\\traceback_utils.py\", line 65, in error_handler\n      return fn(*args, **kwargs)\n    File \"c:\\Users\\mbajd\\AppData\\Local\\Programs\\Python\\Python311\\Lib\\site-packages\\keras\\engine\\base_layer.py\", line 1145, in __call__\n      outputs = call_fn(inputs, *args, **kwargs)\n    File \"c:\\Users\\mbajd\\AppData\\Local\\Programs\\Python\\Python311\\Lib\\site-packages\\keras\\utils\\traceback_utils.py\", line 96, in error_handler\n      return fn(*args, **kwargs)\n    File \"c:\\Users\\mbajd\\AppData\\Local\\Programs\\Python\\Python311\\Lib\\site-packages\\keras\\layers\\core\\dense.py\", line 255, in call\n      outputs = self.activation(outputs)\n    File \"c:\\Users\\mbajd\\AppData\\Local\\Programs\\Python\\Python311\\Lib\\site-packages\\keras\\activations.py\", line 317, in relu\n      return backend.relu(\n    File \"c:\\Users\\mbajd\\AppData\\Local\\Programs\\Python\\Python311\\Lib\\site-packages\\keras\\backend.py\", line 5396, in relu\n      x = tf.nn.relu(x)\nNode: 'sequential_17/dense_37/Relu'\nMatrix size-incompatible: In[0]: [32,0], In[1]: [952560,128]\n\t [[{{node sequential_17/dense_37/Relu}}]] [Op:__inference_train_function_16798]",
          "output_type": "error",
          "traceback": [
            "\u001b[1;31m---------------------------------------------------------------------------\u001b[0m",
            "\u001b[1;31mInvalidArgumentError\u001b[0m                      Traceback (most recent call last)",
            "Cell \u001b[1;32mIn[22], line 95\u001b[0m\n\u001b[0;32m     93\u001b[0m \u001b[39m# Model Training\u001b[39;00m\n\u001b[0;32m     94\u001b[0m epochs \u001b[39m=\u001b[39m \u001b[39m20\u001b[39m\n\u001b[1;32m---> 95\u001b[0m model\u001b[39m.\u001b[39;49mfit(train_generator, epochs\u001b[39m=\u001b[39;49mepochs, validation_data\u001b[39m=\u001b[39;49m(val_images, val_labels))\n\u001b[0;32m     97\u001b[0m \u001b[39m# Model Evaluation\u001b[39;00m\n\u001b[0;32m     98\u001b[0m test_loss, test_acc \u001b[39m=\u001b[39m model\u001b[39m.\u001b[39mevaluate(test_images, test_labels)\n",
            "File \u001b[1;32mc:\\Users\\mbajd\\AppData\\Local\\Programs\\Python\\Python311\\Lib\\site-packages\\keras\\utils\\traceback_utils.py:70\u001b[0m, in \u001b[0;36mfilter_traceback.<locals>.error_handler\u001b[1;34m(*args, **kwargs)\u001b[0m\n\u001b[0;32m     67\u001b[0m     filtered_tb \u001b[39m=\u001b[39m _process_traceback_frames(e\u001b[39m.\u001b[39m__traceback__)\n\u001b[0;32m     68\u001b[0m     \u001b[39m# To get the full stack trace, call:\u001b[39;00m\n\u001b[0;32m     69\u001b[0m     \u001b[39m# `tf.debugging.disable_traceback_filtering()`\u001b[39;00m\n\u001b[1;32m---> 70\u001b[0m     \u001b[39mraise\u001b[39;00m e\u001b[39m.\u001b[39mwith_traceback(filtered_tb) \u001b[39mfrom\u001b[39;00m \u001b[39mNone\u001b[39;00m\n\u001b[0;32m     71\u001b[0m \u001b[39mfinally\u001b[39;00m:\n\u001b[0;32m     72\u001b[0m     \u001b[39mdel\u001b[39;00m filtered_tb\n",
            "File \u001b[1;32mc:\\Users\\mbajd\\AppData\\Local\\Programs\\Python\\Python311\\Lib\\site-packages\\tensorflow\\python\\eager\\execute.py:52\u001b[0m, in \u001b[0;36mquick_execute\u001b[1;34m(op_name, num_outputs, inputs, attrs, ctx, name)\u001b[0m\n\u001b[0;32m     50\u001b[0m \u001b[39mtry\u001b[39;00m:\n\u001b[0;32m     51\u001b[0m   ctx\u001b[39m.\u001b[39mensure_initialized()\n\u001b[1;32m---> 52\u001b[0m   tensors \u001b[39m=\u001b[39m pywrap_tfe\u001b[39m.\u001b[39mTFE_Py_Execute(ctx\u001b[39m.\u001b[39m_handle, device_name, op_name,\n\u001b[0;32m     53\u001b[0m                                       inputs, attrs, num_outputs)\n\u001b[0;32m     54\u001b[0m \u001b[39mexcept\u001b[39;00m core\u001b[39m.\u001b[39m_NotOkStatusException \u001b[39mas\u001b[39;00m e:\n\u001b[0;32m     55\u001b[0m   \u001b[39mif\u001b[39;00m name \u001b[39mis\u001b[39;00m \u001b[39mnot\u001b[39;00m \u001b[39mNone\u001b[39;00m:\n",
            "\u001b[1;31mInvalidArgumentError\u001b[0m: Graph execution error:\n\nDetected at node 'sequential_17/dense_37/Relu' defined at (most recent call last):\n    File \"<frozen runpy>\", line 198, in _run_module_as_main\n    File \"<frozen runpy>\", line 88, in _run_code\n    File \"C:\\Users\\mbajd\\AppData\\Roaming\\Python\\Python311\\site-packages\\ipykernel_launcher.py\", line 17, in <module>\n      app.launch_new_instance()\n    File \"C:\\Users\\mbajd\\AppData\\Roaming\\Python\\Python311\\site-packages\\traitlets\\config\\application.py\", line 1043, in launch_instance\n      app.start()\n    File \"C:\\Users\\mbajd\\AppData\\Roaming\\Python\\Python311\\site-packages\\ipykernel\\kernelapp.py\", line 725, in start\n      self.io_loop.start()\n    File \"C:\\Users\\mbajd\\AppData\\Roaming\\Python\\Python311\\site-packages\\tornado\\platform\\asyncio.py\", line 195, in start\n      self.asyncio_loop.run_forever()\n    File \"c:\\Users\\mbajd\\AppData\\Local\\Programs\\Python\\Python311\\Lib\\asyncio\\base_events.py\", line 607, in run_forever\n      self._run_once()\n    File \"c:\\Users\\mbajd\\AppData\\Local\\Programs\\Python\\Python311\\Lib\\asyncio\\base_events.py\", line 1919, in _run_once\n      handle._run()\n    File \"c:\\Users\\mbajd\\AppData\\Local\\Programs\\Python\\Python311\\Lib\\asyncio\\events.py\", line 80, in _run\n      self._context.run(self._callback, *self._args)\n    File \"C:\\Users\\mbajd\\AppData\\Roaming\\Python\\Python311\\site-packages\\ipykernel\\kernelbase.py\", line 513, in dispatch_queue\n      await self.process_one()\n    File \"C:\\Users\\mbajd\\AppData\\Roaming\\Python\\Python311\\site-packages\\ipykernel\\kernelbase.py\", line 502, in process_one\n      await dispatch(*args)\n    File \"C:\\Users\\mbajd\\AppData\\Roaming\\Python\\Python311\\site-packages\\ipykernel\\kernelbase.py\", line 409, in dispatch_shell\n      await result\n    File \"C:\\Users\\mbajd\\AppData\\Roaming\\Python\\Python311\\site-packages\\ipykernel\\kernelbase.py\", line 729, in execute_request\n      reply_content = await reply_content\n    File \"C:\\Users\\mbajd\\AppData\\Roaming\\Python\\Python311\\site-packages\\ipykernel\\ipkernel.py\", line 422, in do_execute\n      res = shell.run_cell(\n    File \"C:\\Users\\mbajd\\AppData\\Roaming\\Python\\Python311\\site-packages\\ipykernel\\zmqshell.py\", line 540, in run_cell\n      return super().run_cell(*args, **kwargs)\n    File \"C:\\Users\\mbajd\\AppData\\Roaming\\Python\\Python311\\site-packages\\IPython\\core\\interactiveshell.py\", line 3009, in run_cell\n      result = self._run_cell(\n    File \"C:\\Users\\mbajd\\AppData\\Roaming\\Python\\Python311\\site-packages\\IPython\\core\\interactiveshell.py\", line 3064, in _run_cell\n      result = runner(coro)\n    File \"C:\\Users\\mbajd\\AppData\\Roaming\\Python\\Python311\\site-packages\\IPython\\core\\async_helpers.py\", line 129, in _pseudo_sync_runner\n      coro.send(None)\n    File \"C:\\Users\\mbajd\\AppData\\Roaming\\Python\\Python311\\site-packages\\IPython\\core\\interactiveshell.py\", line 3269, in run_cell_async\n      has_raised = await self.run_ast_nodes(code_ast.body, cell_name,\n    File \"C:\\Users\\mbajd\\AppData\\Roaming\\Python\\Python311\\site-packages\\IPython\\core\\interactiveshell.py\", line 3448, in run_ast_nodes\n      if await self.run_code(code, result, async_=asy):\n    File \"C:\\Users\\mbajd\\AppData\\Roaming\\Python\\Python311\\site-packages\\IPython\\core\\interactiveshell.py\", line 3508, in run_code\n      exec(code_obj, self.user_global_ns, self.user_ns)\n    File \"C:\\Users\\mbajd\\AppData\\Local\\Temp\\ipykernel_15252\\1411515583.py\", line 95, in <module>\n      model.fit(train_generator, epochs=epochs, validation_data=(val_images, val_labels))\n    File \"c:\\Users\\mbajd\\AppData\\Local\\Programs\\Python\\Python311\\Lib\\site-packages\\keras\\utils\\traceback_utils.py\", line 65, in error_handler\n      return fn(*args, **kwargs)\n    File \"c:\\Users\\mbajd\\AppData\\Local\\Programs\\Python\\Python311\\Lib\\site-packages\\keras\\engine\\training.py\", line 1685, in fit\n      tmp_logs = self.train_function(iterator)\n    File \"c:\\Users\\mbajd\\AppData\\Local\\Programs\\Python\\Python311\\Lib\\site-packages\\keras\\engine\\training.py\", line 1284, in train_function\n      return step_function(self, iterator)\n    File \"c:\\Users\\mbajd\\AppData\\Local\\Programs\\Python\\Python311\\Lib\\site-packages\\keras\\engine\\training.py\", line 1268, in step_function\n      outputs = model.distribute_strategy.run(run_step, args=(data,))\n    File \"c:\\Users\\mbajd\\AppData\\Local\\Programs\\Python\\Python311\\Lib\\site-packages\\keras\\engine\\training.py\", line 1249, in run_step\n      outputs = model.train_step(data)\n    File \"c:\\Users\\mbajd\\AppData\\Local\\Programs\\Python\\Python311\\Lib\\site-packages\\keras\\engine\\training.py\", line 1050, in train_step\n      y_pred = self(x, training=True)\n    File \"c:\\Users\\mbajd\\AppData\\Local\\Programs\\Python\\Python311\\Lib\\site-packages\\keras\\utils\\traceback_utils.py\", line 65, in error_handler\n      return fn(*args, **kwargs)\n    File \"c:\\Users\\mbajd\\AppData\\Local\\Programs\\Python\\Python311\\Lib\\site-packages\\keras\\engine\\training.py\", line 558, in __call__\n      return super().__call__(*args, **kwargs)\n    File \"c:\\Users\\mbajd\\AppData\\Local\\Programs\\Python\\Python311\\Lib\\site-packages\\keras\\utils\\traceback_utils.py\", line 65, in error_handler\n      return fn(*args, **kwargs)\n    File \"c:\\Users\\mbajd\\AppData\\Local\\Programs\\Python\\Python311\\Lib\\site-packages\\keras\\engine\\base_layer.py\", line 1145, in __call__\n      outputs = call_fn(inputs, *args, **kwargs)\n    File \"c:\\Users\\mbajd\\AppData\\Local\\Programs\\Python\\Python311\\Lib\\site-packages\\keras\\utils\\traceback_utils.py\", line 96, in error_handler\n      return fn(*args, **kwargs)\n    File \"c:\\Users\\mbajd\\AppData\\Local\\Programs\\Python\\Python311\\Lib\\site-packages\\keras\\engine\\sequential.py\", line 412, in call\n      return super().call(inputs, training=training, mask=mask)\n    File \"c:\\Users\\mbajd\\AppData\\Local\\Programs\\Python\\Python311\\Lib\\site-packages\\keras\\engine\\functional.py\", line 512, in call\n      return self._run_internal_graph(inputs, training=training, mask=mask)\n    File \"c:\\Users\\mbajd\\AppData\\Local\\Programs\\Python\\Python311\\Lib\\site-packages\\keras\\engine\\functional.py\", line 669, in _run_internal_graph\n      outputs = node.layer(*args, **kwargs)\n    File \"c:\\Users\\mbajd\\AppData\\Local\\Programs\\Python\\Python311\\Lib\\site-packages\\keras\\utils\\traceback_utils.py\", line 65, in error_handler\n      return fn(*args, **kwargs)\n    File \"c:\\Users\\mbajd\\AppData\\Local\\Programs\\Python\\Python311\\Lib\\site-packages\\keras\\engine\\base_layer.py\", line 1145, in __call__\n      outputs = call_fn(inputs, *args, **kwargs)\n    File \"c:\\Users\\mbajd\\AppData\\Local\\Programs\\Python\\Python311\\Lib\\site-packages\\keras\\utils\\traceback_utils.py\", line 96, in error_handler\n      return fn(*args, **kwargs)\n    File \"c:\\Users\\mbajd\\AppData\\Local\\Programs\\Python\\Python311\\Lib\\site-packages\\keras\\layers\\core\\dense.py\", line 255, in call\n      outputs = self.activation(outputs)\n    File \"c:\\Users\\mbajd\\AppData\\Local\\Programs\\Python\\Python311\\Lib\\site-packages\\keras\\activations.py\", line 317, in relu\n      return backend.relu(\n    File \"c:\\Users\\mbajd\\AppData\\Local\\Programs\\Python\\Python311\\Lib\\site-packages\\keras\\backend.py\", line 5396, in relu\n      x = tf.nn.relu(x)\nNode: 'sequential_17/dense_37/Relu'\nMatrix size-incompatible: In[0]: [32,0], In[1]: [952560,128]\n\t [[{{node sequential_17/dense_37/Relu}}]] [Op:__inference_train_function_16798]"
          ]
        }
      ],
      "source": [
        "from tensorflow.keras.preprocessing.image import load_img, img_to_array\n",
        "from tensorflow.keras.utils import to_categorical\n",
        "from sklearn.preprocessing import LabelEncoder\n",
        "import numpy as np\n",
        "import glob\n",
        "from sklearn.model_selection import train_test_split\n",
        "from tensorflow.keras.preprocessing.image import ImageDataGenerator\n",
        "from tensorflow.keras.layers import Conv3D, MaxPool3D, BatchNormalization, Flatten, Dense, Dropout\n",
        "from tensorflow.keras.models import Sequential\n",
        "from tensorflow.keras.optimizers import SGD\n",
        "\n",
        "# Load the image paths from the 'flipped' and 'noflipped' subfolders\n",
        "flipped_images = glob.glob(flipped_dir + '/*.jpg')\n",
        "noflipped_images = glob.glob(noflipped_dir + '/*.jpg')\n",
        "\n",
        "# Assuming you have your labels as 'flipped' and 'noflipped'\n",
        "flipped_labels = ['flip'] * len(flipped_images)\n",
        "noflipped_labels = ['noflip'] * len(noflipped_images)\n",
        "\n",
        "# Concatenate the flipped and noflipped images and labels\n",
        "images = flipped_images + noflipped_images\n",
        "labels = flipped_labels + noflipped_labels\n",
        "\n",
        "# Split the dataset into training, validation, and test sets\n",
        "train_images, val_images, train_labels, val_labels = train_test_split(images, labels, test_size=0.2, random_state=42)\n",
        "\n",
        "# Load the test images and labels\n",
        "test_flipped_images = glob.glob(test_dir + '/flip/*.jpg')\n",
        "test_noflipped_images = glob.glob(test_dir + '/notflip/*.jpg')\n",
        "\n",
        "test_images = test_flipped_images + test_noflipped_images\n",
        "test_labels = ['flip'] * len(test_flipped_images) + ['noflip'] * len(test_noflipped_images)\n",
        "\n",
        "input_shape = (32, 128, 128)\n",
        "\n",
        "# Convert labels to one-hot encoding\n",
        "label_encoder = LabelEncoder()\n",
        "train_labels = label_encoder.fit_transform(train_labels)\n",
        "val_labels = label_encoder.transform(val_labels)\n",
        "test_labels = label_encoder.transform(test_labels)\n",
        "\n",
        "num_classes = len(label_encoder.classes_)\n",
        "train_labels = to_categorical(train_labels, num_classes=num_classes)\n",
        "val_labels = to_categorical(val_labels, num_classes=num_classes)\n",
        "test_labels = to_categorical(test_labels, num_classes=num_classes)\n",
        "\n",
        "# Preprocess function\n",
        "def preprocess_image(image_path):\n",
        "    image = load_img(image_path, target_size=(input_shape[0], input_shape[1], input_shape[2]))\n",
        "    image = img_to_array(image)\n",
        "    image = image / 255.0  # Normalize pixel values\n",
        "    return image\n",
        "\n",
        "# Load and preprocess the training, validation, and test images\n",
        "train_images = np.array([preprocess_image(image_path) for image_path in train_images])\n",
        "val_images = np.array([preprocess_image(image_path) for image_path in val_images])\n",
        "test_images = np.array([preprocess_image(image_path) for image_path in test_images])\n",
        "\n",
        "batch_size = 32\n",
        "train_datagen = ImageDataGenerator(\n",
        "    rotation_range=10,\n",
        "    width_shift_range=0.1,\n",
        "    height_shift_range=0.1,\n",
        "    horizontal_flip=True\n",
        ")\n",
        "train_generator = train_datagen.flow(train_images, train_labels, batch_size=batch_size)\n",
        "\n",
        "# Model definition\n",
        "model = Sequential([\n",
        "    Conv3D(16, kernel_size=(3, 3, 3), padding='valid', activation='relu', input_shape=(32,128,128,1)),\n",
        "    #Conv3D(16, kernel_size=(3, 3, 3), padding='valid', activation='relu'),\n",
        "    #Conv3D(32, kernel_size=(3, 3, 3), padding='valid', activation='relu'),\n",
        "    MaxPool3D(pool_size=(2, 2, 2)),\n",
        "    BatchNormalization(),\n",
        "    #Conv3D(32, kernel_size=(3, 3, 3), padding='valid', activation='relu'),\n",
        "    #Conv3D(32, kernel_size=(3, 3, 3), padding='valid', activation='relu'),\n",
        "    #MaxPool3D(pool_size=(2, 2, 2)),\n",
        "    #BatchNormalization(),\n",
        "    Flatten(),\n",
        "    #Dense(2048, activation='relu'),\n",
        "    #Dropout(0.6),\n",
        "    Dense(128, activation='relu'),\n",
        "    Dropout(0.6),\n",
        "    Dense(1, activation='sigmoid')\n",
        "])\n",
        "\n",
        "# Model Compilation\n",
        "optimizer = SGD(learning_rate=0.01, momentum=0.9)\n",
        "model.compile(optimizer=optimizer,\n",
        "              loss='categorical_crossentropy',\n",
        "              metrics=['accuracy'])\n",
        "\n",
        "# Model Training\n",
        "epochs = 20\n",
        "model.fit(train_generator, epochs=epochs, validation_data=(val_images, val_labels))\n",
        "\n",
        "# Model Evaluation\n",
        "test_loss, test_acc = model.evaluate(test_images, test_labels)\n",
        "print('Test loss:', test_loss)\n",
        "print('Test accuracy:', test_acc)\n"
      ]
    },
    {
      "cell_type": "code",
      "execution_count": 18,
      "metadata": {},
      "outputs": [
        {
          "data": {
            "text/plain": [
              "2"
            ]
          },
          "execution_count": 18,
          "metadata": {},
          "output_type": "execute_result"
        }
      ],
      "source": [
        "num_classes"
      ]
    },
    {
      "cell_type": "code",
      "execution_count": 101,
      "metadata": {},
      "outputs": [],
      "source": [
        "from tensorflow.keras import layers\n",
        "from tensorflow.keras.models import Sequential\n",
        "\n",
        "\n",
        "model_2 = Sequential([\n",
        "  Conv3D(16, kernel_size=(3, 3, 3), padding='valid', activation='relu', input_shape=(128, 224, 224, 3), data_format='channels_first'),\n",
        "  Conv3D(16, kernel_size=(3, 3, 3), padding='valid', activation='relu'),\n",
        "  Conv3D(32, kernel_size=(3, 3, 3), padding='valid', activation='relu'),\n",
        "\n",
        "  MaxPool3D(pool_size=(2, 2, 2)),\n",
        "  BatchNormalization(),\n",
        "\n",
        "  Conv3D(32, kernel_size=(3, 3, 3), padding='valid', activation='relu'),\n",
        "  Conv3D(32, kernel_size=(3, 3, 3), padding='valid', activation='relu'),\n",
        "\n",
        "\n",
        "  MaxPool3D(pool_size=(2, 2, 2)),\n",
        "  BatchNormalization(),\n",
        "\n",
        "\n",
        "  Flatten(),\n",
        "\n",
        "  #GlobalAveragePooling3D(),\n",
        "  Dense(2048, activation='relu'),\n",
        "  Dropout(0.6),\n",
        "  Dense(512, activation='relu'),\n",
        "  Dropout(0.6),\n",
        "  Dense(1, activation='softmax')\n",
        "])\n"
      ]
    },
    {
      "cell_type": "code",
      "execution_count": 102,
      "metadata": {},
      "outputs": [
        {
          "name": "stdout",
          "output_type": "stream",
          "text": [
            "Epoch 1/20\n"
          ]
        },
        {
          "ename": "InvalidArgumentError",
          "evalue": "Graph execution error:\n\nDetected at node 'Equal' defined at (most recent call last):\n    File \"<frozen runpy>\", line 198, in _run_module_as_main\n    File \"<frozen runpy>\", line 88, in _run_code\n    File \"C:\\Users\\mbajd\\AppData\\Roaming\\Python\\Python311\\site-packages\\ipykernel_launcher.py\", line 17, in <module>\n      app.launch_new_instance()\n    File \"C:\\Users\\mbajd\\AppData\\Roaming\\Python\\Python311\\site-packages\\traitlets\\config\\application.py\", line 1043, in launch_instance\n      app.start()\n    File \"C:\\Users\\mbajd\\AppData\\Roaming\\Python\\Python311\\site-packages\\ipykernel\\kernelapp.py\", line 725, in start\n      self.io_loop.start()\n    File \"C:\\Users\\mbajd\\AppData\\Roaming\\Python\\Python311\\site-packages\\tornado\\platform\\asyncio.py\", line 195, in start\n      self.asyncio_loop.run_forever()\n    File \"c:\\Users\\mbajd\\AppData\\Local\\Programs\\Python\\Python311\\Lib\\asyncio\\base_events.py\", line 607, in run_forever\n      self._run_once()\n    File \"c:\\Users\\mbajd\\AppData\\Local\\Programs\\Python\\Python311\\Lib\\asyncio\\base_events.py\", line 1919, in _run_once\n      handle._run()\n    File \"c:\\Users\\mbajd\\AppData\\Local\\Programs\\Python\\Python311\\Lib\\asyncio\\events.py\", line 80, in _run\n      self._context.run(self._callback, *self._args)\n    File \"C:\\Users\\mbajd\\AppData\\Roaming\\Python\\Python311\\site-packages\\ipykernel\\kernelbase.py\", line 513, in dispatch_queue\n      await self.process_one()\n    File \"C:\\Users\\mbajd\\AppData\\Roaming\\Python\\Python311\\site-packages\\ipykernel\\kernelbase.py\", line 502, in process_one\n      await dispatch(*args)\n    File \"C:\\Users\\mbajd\\AppData\\Roaming\\Python\\Python311\\site-packages\\ipykernel\\kernelbase.py\", line 409, in dispatch_shell\n      await result\n    File \"C:\\Users\\mbajd\\AppData\\Roaming\\Python\\Python311\\site-packages\\ipykernel\\kernelbase.py\", line 729, in execute_request\n      reply_content = await reply_content\n    File \"C:\\Users\\mbajd\\AppData\\Roaming\\Python\\Python311\\site-packages\\ipykernel\\ipkernel.py\", line 422, in do_execute\n      res = shell.run_cell(\n    File \"C:\\Users\\mbajd\\AppData\\Roaming\\Python\\Python311\\site-packages\\ipykernel\\zmqshell.py\", line 540, in run_cell\n      return super().run_cell(*args, **kwargs)\n    File \"C:\\Users\\mbajd\\AppData\\Roaming\\Python\\Python311\\site-packages\\IPython\\core\\interactiveshell.py\", line 3009, in run_cell\n      result = self._run_cell(\n    File \"C:\\Users\\mbajd\\AppData\\Roaming\\Python\\Python311\\site-packages\\IPython\\core\\interactiveshell.py\", line 3064, in _run_cell\n      result = runner(coro)\n    File \"C:\\Users\\mbajd\\AppData\\Roaming\\Python\\Python311\\site-packages\\IPython\\core\\async_helpers.py\", line 129, in _pseudo_sync_runner\n      coro.send(None)\n    File \"C:\\Users\\mbajd\\AppData\\Roaming\\Python\\Python311\\site-packages\\IPython\\core\\interactiveshell.py\", line 3269, in run_cell_async\n      has_raised = await self.run_ast_nodes(code_ast.body, cell_name,\n    File \"C:\\Users\\mbajd\\AppData\\Roaming\\Python\\Python311\\site-packages\\IPython\\core\\interactiveshell.py\", line 3448, in run_ast_nodes\n      if await self.run_code(code, result, async_=asy):\n    File \"C:\\Users\\mbajd\\AppData\\Roaming\\Python\\Python311\\site-packages\\IPython\\core\\interactiveshell.py\", line 3508, in run_code\n      exec(code_obj, self.user_global_ns, self.user_ns)\n    File \"C:\\Users\\mbajd\\AppData\\Local\\Temp\\ipykernel_25440\\930318437.py\", line 9, in <module>\n      model.fit(train_generator, epochs=epochs, validation_data=(val_images, val_labels))\n    File \"c:\\Users\\mbajd\\AppData\\Local\\Programs\\Python\\Python311\\Lib\\site-packages\\keras\\utils\\traceback_utils.py\", line 65, in error_handler\n      return fn(*args, **kwargs)\n    File \"c:\\Users\\mbajd\\AppData\\Local\\Programs\\Python\\Python311\\Lib\\site-packages\\keras\\engine\\training.py\", line 1685, in fit\n      tmp_logs = self.train_function(iterator)\n    File \"c:\\Users\\mbajd\\AppData\\Local\\Programs\\Python\\Python311\\Lib\\site-packages\\keras\\engine\\training.py\", line 1284, in train_function\n      return step_function(self, iterator)\n    File \"c:\\Users\\mbajd\\AppData\\Local\\Programs\\Python\\Python311\\Lib\\site-packages\\keras\\engine\\training.py\", line 1268, in step_function\n      outputs = model.distribute_strategy.run(run_step, args=(data,))\n    File \"c:\\Users\\mbajd\\AppData\\Local\\Programs\\Python\\Python311\\Lib\\site-packages\\keras\\engine\\training.py\", line 1249, in run_step\n      outputs = model.train_step(data)\n    File \"c:\\Users\\mbajd\\AppData\\Local\\Programs\\Python\\Python311\\Lib\\site-packages\\keras\\engine\\training.py\", line 1055, in train_step\n      return self.compute_metrics(x, y, y_pred, sample_weight)\n    File \"c:\\Users\\mbajd\\AppData\\Local\\Programs\\Python\\Python311\\Lib\\site-packages\\keras\\engine\\training.py\", line 1149, in compute_metrics\n      self.compiled_metrics.update_state(y, y_pred, sample_weight)\n    File \"c:\\Users\\mbajd\\AppData\\Local\\Programs\\Python\\Python311\\Lib\\site-packages\\keras\\engine\\compile_utils.py\", line 605, in update_state\n      metric_obj.update_state(y_t, y_p, sample_weight=mask)\n    File \"c:\\Users\\mbajd\\AppData\\Local\\Programs\\Python\\Python311\\Lib\\site-packages\\keras\\utils\\metrics_utils.py\", line 77, in decorated\n      update_op = update_state_fn(*args, **kwargs)\n    File \"c:\\Users\\mbajd\\AppData\\Local\\Programs\\Python\\Python311\\Lib\\site-packages\\keras\\metrics\\base_metric.py\", line 140, in update_state_fn\n      return ag_update_state(*args, **kwargs)\n    File \"c:\\Users\\mbajd\\AppData\\Local\\Programs\\Python\\Python311\\Lib\\site-packages\\keras\\metrics\\base_metric.py\", line 691, in update_state\n      matches = ag_fn(y_true, y_pred, **self._fn_kwargs)\n    File \"c:\\Users\\mbajd\\AppData\\Local\\Programs\\Python\\Python311\\Lib\\site-packages\\keras\\metrics\\accuracy_metrics.py\", line 395, in binary_accuracy\n      metrics_utils.binary_matches(y_true, y_pred, threshold), axis=-1\n    File \"c:\\Users\\mbajd\\AppData\\Local\\Programs\\Python\\Python311\\Lib\\site-packages\\keras\\utils\\metrics_utils.py\", line 934, in binary_matches\n      return tf.cast(tf.equal(y_true, y_pred), backend.floatx())\nNode: 'Equal'\nIncompatible shapes: [128,32,32,3] vs. [128]\n\t [[{{node Equal}}]] [Op:__inference_train_function_52021]",
          "output_type": "error",
          "traceback": [
            "\u001b[1;31m---------------------------------------------------------------------------\u001b[0m",
            "\u001b[1;31mInvalidArgumentError\u001b[0m                      Traceback (most recent call last)",
            "Cell \u001b[1;32mIn[102], line 9\u001b[0m\n\u001b[0;32m      7\u001b[0m \u001b[39m#Model Training\u001b[39;00m\n\u001b[0;32m      8\u001b[0m epochs \u001b[39m=\u001b[39m \u001b[39m20\u001b[39m\n\u001b[1;32m----> 9\u001b[0m model\u001b[39m.\u001b[39;49mfit(train_generator, epochs\u001b[39m=\u001b[39;49mepochs, validation_data\u001b[39m=\u001b[39;49m(val_images, val_labels))\n\u001b[0;32m     11\u001b[0m \u001b[39m# Model Evaluation\u001b[39;00m\n\u001b[0;32m     12\u001b[0m test_loss, test_acc \u001b[39m=\u001b[39m model\u001b[39m.\u001b[39mevaluate(test_images, test_labels)\n",
            "File \u001b[1;32mc:\\Users\\mbajd\\AppData\\Local\\Programs\\Python\\Python311\\Lib\\site-packages\\keras\\utils\\traceback_utils.py:70\u001b[0m, in \u001b[0;36mfilter_traceback.<locals>.error_handler\u001b[1;34m(*args, **kwargs)\u001b[0m\n\u001b[0;32m     67\u001b[0m     filtered_tb \u001b[39m=\u001b[39m _process_traceback_frames(e\u001b[39m.\u001b[39m__traceback__)\n\u001b[0;32m     68\u001b[0m     \u001b[39m# To get the full stack trace, call:\u001b[39;00m\n\u001b[0;32m     69\u001b[0m     \u001b[39m# `tf.debugging.disable_traceback_filtering()`\u001b[39;00m\n\u001b[1;32m---> 70\u001b[0m     \u001b[39mraise\u001b[39;00m e\u001b[39m.\u001b[39mwith_traceback(filtered_tb) \u001b[39mfrom\u001b[39;00m \u001b[39mNone\u001b[39;00m\n\u001b[0;32m     71\u001b[0m \u001b[39mfinally\u001b[39;00m:\n\u001b[0;32m     72\u001b[0m     \u001b[39mdel\u001b[39;00m filtered_tb\n",
            "File \u001b[1;32mc:\\Users\\mbajd\\AppData\\Local\\Programs\\Python\\Python311\\Lib\\site-packages\\tensorflow\\python\\eager\\execute.py:52\u001b[0m, in \u001b[0;36mquick_execute\u001b[1;34m(op_name, num_outputs, inputs, attrs, ctx, name)\u001b[0m\n\u001b[0;32m     50\u001b[0m \u001b[39mtry\u001b[39;00m:\n\u001b[0;32m     51\u001b[0m   ctx\u001b[39m.\u001b[39mensure_initialized()\n\u001b[1;32m---> 52\u001b[0m   tensors \u001b[39m=\u001b[39m pywrap_tfe\u001b[39m.\u001b[39mTFE_Py_Execute(ctx\u001b[39m.\u001b[39m_handle, device_name, op_name,\n\u001b[0;32m     53\u001b[0m                                       inputs, attrs, num_outputs)\n\u001b[0;32m     54\u001b[0m \u001b[39mexcept\u001b[39;00m core\u001b[39m.\u001b[39m_NotOkStatusException \u001b[39mas\u001b[39;00m e:\n\u001b[0;32m     55\u001b[0m   \u001b[39mif\u001b[39;00m name \u001b[39mis\u001b[39;00m \u001b[39mnot\u001b[39;00m \u001b[39mNone\u001b[39;00m:\n",
            "\u001b[1;31mInvalidArgumentError\u001b[0m: Graph execution error:\n\nDetected at node 'Equal' defined at (most recent call last):\n    File \"<frozen runpy>\", line 198, in _run_module_as_main\n    File \"<frozen runpy>\", line 88, in _run_code\n    File \"C:\\Users\\mbajd\\AppData\\Roaming\\Python\\Python311\\site-packages\\ipykernel_launcher.py\", line 17, in <module>\n      app.launch_new_instance()\n    File \"C:\\Users\\mbajd\\AppData\\Roaming\\Python\\Python311\\site-packages\\traitlets\\config\\application.py\", line 1043, in launch_instance\n      app.start()\n    File \"C:\\Users\\mbajd\\AppData\\Roaming\\Python\\Python311\\site-packages\\ipykernel\\kernelapp.py\", line 725, in start\n      self.io_loop.start()\n    File \"C:\\Users\\mbajd\\AppData\\Roaming\\Python\\Python311\\site-packages\\tornado\\platform\\asyncio.py\", line 195, in start\n      self.asyncio_loop.run_forever()\n    File \"c:\\Users\\mbajd\\AppData\\Local\\Programs\\Python\\Python311\\Lib\\asyncio\\base_events.py\", line 607, in run_forever\n      self._run_once()\n    File \"c:\\Users\\mbajd\\AppData\\Local\\Programs\\Python\\Python311\\Lib\\asyncio\\base_events.py\", line 1919, in _run_once\n      handle._run()\n    File \"c:\\Users\\mbajd\\AppData\\Local\\Programs\\Python\\Python311\\Lib\\asyncio\\events.py\", line 80, in _run\n      self._context.run(self._callback, *self._args)\n    File \"C:\\Users\\mbajd\\AppData\\Roaming\\Python\\Python311\\site-packages\\ipykernel\\kernelbase.py\", line 513, in dispatch_queue\n      await self.process_one()\n    File \"C:\\Users\\mbajd\\AppData\\Roaming\\Python\\Python311\\site-packages\\ipykernel\\kernelbase.py\", line 502, in process_one\n      await dispatch(*args)\n    File \"C:\\Users\\mbajd\\AppData\\Roaming\\Python\\Python311\\site-packages\\ipykernel\\kernelbase.py\", line 409, in dispatch_shell\n      await result\n    File \"C:\\Users\\mbajd\\AppData\\Roaming\\Python\\Python311\\site-packages\\ipykernel\\kernelbase.py\", line 729, in execute_request\n      reply_content = await reply_content\n    File \"C:\\Users\\mbajd\\AppData\\Roaming\\Python\\Python311\\site-packages\\ipykernel\\ipkernel.py\", line 422, in do_execute\n      res = shell.run_cell(\n    File \"C:\\Users\\mbajd\\AppData\\Roaming\\Python\\Python311\\site-packages\\ipykernel\\zmqshell.py\", line 540, in run_cell\n      return super().run_cell(*args, **kwargs)\n    File \"C:\\Users\\mbajd\\AppData\\Roaming\\Python\\Python311\\site-packages\\IPython\\core\\interactiveshell.py\", line 3009, in run_cell\n      result = self._run_cell(\n    File \"C:\\Users\\mbajd\\AppData\\Roaming\\Python\\Python311\\site-packages\\IPython\\core\\interactiveshell.py\", line 3064, in _run_cell\n      result = runner(coro)\n    File \"C:\\Users\\mbajd\\AppData\\Roaming\\Python\\Python311\\site-packages\\IPython\\core\\async_helpers.py\", line 129, in _pseudo_sync_runner\n      coro.send(None)\n    File \"C:\\Users\\mbajd\\AppData\\Roaming\\Python\\Python311\\site-packages\\IPython\\core\\interactiveshell.py\", line 3269, in run_cell_async\n      has_raised = await self.run_ast_nodes(code_ast.body, cell_name,\n    File \"C:\\Users\\mbajd\\AppData\\Roaming\\Python\\Python311\\site-packages\\IPython\\core\\interactiveshell.py\", line 3448, in run_ast_nodes\n      if await self.run_code(code, result, async_=asy):\n    File \"C:\\Users\\mbajd\\AppData\\Roaming\\Python\\Python311\\site-packages\\IPython\\core\\interactiveshell.py\", line 3508, in run_code\n      exec(code_obj, self.user_global_ns, self.user_ns)\n    File \"C:\\Users\\mbajd\\AppData\\Local\\Temp\\ipykernel_25440\\930318437.py\", line 9, in <module>\n      model.fit(train_generator, epochs=epochs, validation_data=(val_images, val_labels))\n    File \"c:\\Users\\mbajd\\AppData\\Local\\Programs\\Python\\Python311\\Lib\\site-packages\\keras\\utils\\traceback_utils.py\", line 65, in error_handler\n      return fn(*args, **kwargs)\n    File \"c:\\Users\\mbajd\\AppData\\Local\\Programs\\Python\\Python311\\Lib\\site-packages\\keras\\engine\\training.py\", line 1685, in fit\n      tmp_logs = self.train_function(iterator)\n    File \"c:\\Users\\mbajd\\AppData\\Local\\Programs\\Python\\Python311\\Lib\\site-packages\\keras\\engine\\training.py\", line 1284, in train_function\n      return step_function(self, iterator)\n    File \"c:\\Users\\mbajd\\AppData\\Local\\Programs\\Python\\Python311\\Lib\\site-packages\\keras\\engine\\training.py\", line 1268, in step_function\n      outputs = model.distribute_strategy.run(run_step, args=(data,))\n    File \"c:\\Users\\mbajd\\AppData\\Local\\Programs\\Python\\Python311\\Lib\\site-packages\\keras\\engine\\training.py\", line 1249, in run_step\n      outputs = model.train_step(data)\n    File \"c:\\Users\\mbajd\\AppData\\Local\\Programs\\Python\\Python311\\Lib\\site-packages\\keras\\engine\\training.py\", line 1055, in train_step\n      return self.compute_metrics(x, y, y_pred, sample_weight)\n    File \"c:\\Users\\mbajd\\AppData\\Local\\Programs\\Python\\Python311\\Lib\\site-packages\\keras\\engine\\training.py\", line 1149, in compute_metrics\n      self.compiled_metrics.update_state(y, y_pred, sample_weight)\n    File \"c:\\Users\\mbajd\\AppData\\Local\\Programs\\Python\\Python311\\Lib\\site-packages\\keras\\engine\\compile_utils.py\", line 605, in update_state\n      metric_obj.update_state(y_t, y_p, sample_weight=mask)\n    File \"c:\\Users\\mbajd\\AppData\\Local\\Programs\\Python\\Python311\\Lib\\site-packages\\keras\\utils\\metrics_utils.py\", line 77, in decorated\n      update_op = update_state_fn(*args, **kwargs)\n    File \"c:\\Users\\mbajd\\AppData\\Local\\Programs\\Python\\Python311\\Lib\\site-packages\\keras\\metrics\\base_metric.py\", line 140, in update_state_fn\n      return ag_update_state(*args, **kwargs)\n    File \"c:\\Users\\mbajd\\AppData\\Local\\Programs\\Python\\Python311\\Lib\\site-packages\\keras\\metrics\\base_metric.py\", line 691, in update_state\n      matches = ag_fn(y_true, y_pred, **self._fn_kwargs)\n    File \"c:\\Users\\mbajd\\AppData\\Local\\Programs\\Python\\Python311\\Lib\\site-packages\\keras\\metrics\\accuracy_metrics.py\", line 395, in binary_accuracy\n      metrics_utils.binary_matches(y_true, y_pred, threshold), axis=-1\n    File \"c:\\Users\\mbajd\\AppData\\Local\\Programs\\Python\\Python311\\Lib\\site-packages\\keras\\utils\\metrics_utils.py\", line 934, in binary_matches\n      return tf.cast(tf.equal(y_true, y_pred), backend.floatx())\nNode: 'Equal'\nIncompatible shapes: [128,32,32,3] vs. [128]\n\t [[{{node Equal}}]] [Op:__inference_train_function_52021]"
          ]
        }
      ],
      "source": [
        "# Model Compilation\n",
        "optimizer = SGD(learning_rate=0.01, momentum=0.9)\n",
        "model.compile(optimizer=optimizer,\n",
        "              loss='binary_crossentropy',\n",
        "              metrics=['binary_accuracy'])\n",
        "\n",
        "#Model Training\n",
        "epochs = 20\n",
        "model.fit(train_generator, epochs=epochs, validation_data=(val_images, val_labels))\n",
        "\n",
        "# Model Evaluation\n",
        "test_loss, test_acc = model.evaluate(test_images, test_labels)\n",
        "print('Test loss:', test_loss)"
      ]
    },
    {
      "cell_type": "code",
      "execution_count": null,
      "metadata": {},
      "outputs": [],
      "source": []
    }
  ],
  "metadata": {
    "accelerator": "TPU",
    "colab": {
      "provenance": []
    },
    "kernelspec": {
      "display_name": "Python 3",
      "name": "python3"
    },
    "language_info": {
      "codemirror_mode": {
        "name": "ipython",
        "version": 3
      },
      "file_extension": ".py",
      "mimetype": "text/x-python",
      "name": "python",
      "nbconvert_exporter": "python",
      "pygments_lexer": "ipython3",
      "version": "3.11.1"
    }
  },
  "nbformat": 4,
  "nbformat_minor": 0
}
