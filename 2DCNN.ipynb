{
  "cells": [
    {
      "cell_type": "markdown",
      "metadata": {
        "id": "view-in-github",
        "colab_type": "text"
      },
      "source": [
        "<a href=\"https://colab.research.google.com/github/Mrcl3/kLfCelvFM1n2urrn/blob/main/2DCNN.ipynb\" target=\"_parent\"><img src=\"https://colab.research.google.com/assets/colab-badge.svg\" alt=\"Open In Colab\"/></a>"
      ]
    },
    {
      "cell_type": "markdown",
      "metadata": {
        "id": "9w3skq5edU4P"
      },
      "source": [
        "# 2D CNN\n"
      ]
    },
    {
      "cell_type": "code",
      "execution_count": null,
      "metadata": {
        "id": "Qb2uSyKh24DS"
      },
      "outputs": [],
      "source": [
        "import numpy as np\n",
        "import tensorflow as tf\n",
        "from sklearn.model_selection import train_test_split\n",
        "from sklearn.preprocessing import LabelEncoder\n",
        "from tensorflow.keras.preprocessing.image import ImageDataGenerator\n",
        "import glob\n",
        "from tensorflow.keras.optimizers import SGD\n",
        "from tensorflow.keras.layers import Dense, Flatten, Conv2D, MaxPool2D, Activation, Rescaling, BatchNormalization, Conv3D, MaxPool3D, Dropout\n",
        "from sklearn.metrics import f1_score\n",
        "import tensorflow.keras as keras\n"
      ]
    },
    {
      "cell_type": "markdown",
      "metadata": {
        "id": "0YqnkQaO3T5k"
      },
      "source": [
        "## Declaring the repositories with images"
      ]
    },
    {
      "cell_type": "code",
      "execution_count": null,
      "metadata": {
        "id": "b5H1KmZ_27Mk"
      },
      "outputs": [],
      "source": [
        "# Assuming your image folder is called 'dataset' and contains two subfolders: 'flipped' and 'noflipped'\n",
        "flipped_dir = '/content/drive/MyDrive/MonReader/images (1)/images/training/flip'\n",
        "noflipped_dir = '/content/drive/MyDrive/MonReader/images (1)/images/training/notflip'\n",
        "test_dir = '/content/drive/MyDrive/MonReader/images (1)/images/testing/'"
      ]
    },
    {
      "cell_type": "markdown",
      "metadata": {
        "id": "rMcrfp8a3QVj"
      },
      "source": [
        "## Loading the images for training"
      ]
    },
    {
      "cell_type": "code",
      "execution_count": null,
      "metadata": {
        "id": "ZRiKu44J2961"
      },
      "outputs": [],
      "source": [
        "# Load the image paths from the 'flipped' and 'noflipped' subfolders\n",
        "flipped_images = glob.glob(flipped_dir + '/*.jpg')  # Assuming your images have the .jpg extension\n",
        "noflipped_images = glob.glob(noflipped_dir + '/*.jpg')\n",
        "\n",
        "# Assuming you have your labels as 'flipped' and 'noflipped'\n",
        "flipped_labels = ['flip'] * len(flipped_images)\n",
        "noflipped_labels = ['noflip'] * len(noflipped_images)\n",
        "\n",
        "# Concatenate the flipped and noflipped images and labels\n",
        "images = flipped_images + noflipped_images\n",
        "labels = flipped_labels + noflipped_labels\n"
      ]
    },
    {
      "cell_type": "markdown",
      "metadata": {
        "id": "K6rP6qiF3beW"
      },
      "source": [
        "## Organizing train and test data"
      ]
    },
    {
      "cell_type": "code",
      "execution_count": null,
      "metadata": {
        "id": "8ZzfJOjc3ZbS"
      },
      "outputs": [],
      "source": [
        "# Split the dataset into training, validation, and test sets\n",
        "train_images, val_images, train_labels, val_labels = train_test_split(images, labels, test_size=0.2, random_state=42)\n",
        "\n",
        "# Load the test images and labels\n",
        "test_flipped_images = glob.glob(test_dir + '/flip/*.jpg')\n",
        "test_noflipped_images = glob.glob(test_dir + '/notflip/*.jpg')\n",
        "\n",
        "test_images = test_flipped_images + test_noflipped_images\n",
        "test_labels = ['flip'] * len(test_flipped_images) + ['noflip'] * len(test_noflipped_images)"
      ]
    },
    {
      "cell_type": "markdown",
      "metadata": {
        "id": "W-eBdwor3gCq"
      },
      "source": [
        "## Data preprocessing"
      ]
    },
    {
      "cell_type": "code",
      "execution_count": null,
      "metadata": {
        "id": "6iMFPPxr4BE3"
      },
      "outputs": [],
      "source": [
        "input_shape = (32, 32, 3)\n",
        "\n",
        "# Convert labels to binary representation (0 for flipped, 1 for noflipped)\n",
        "label_encoder = LabelEncoder()\n",
        "train_labels = label_encoder.fit_transform(train_labels)\n",
        "val_labels = label_encoder.transform(val_labels)\n",
        "test_labels = label_encoder.transform(test_labels)\n",
        "\n",
        "# Preprocess function\n",
        "def preprocess_image(image_path):\n",
        "    image = tf.io.read_file(image_path)\n",
        "    image = tf.image.decode_jpeg(image, channels=3)\n",
        "    image = tf.image.resize(image, input_shape[:2])\n",
        "    image = image / 255.0  # Normalize pixel values\n",
        "    return image\n",
        "\n",
        "# Load and preprocess the training, validation, and test images\n",
        "train_images = np.array([preprocess_image(image_path) for image_path in train_images])\n",
        "val_images = np.array([preprocess_image(image_path) for image_path in val_images])\n",
        "test_images = np.array([preprocess_image(image_path) for image_path in test_images])"
      ]
    },
    {
      "cell_type": "markdown",
      "metadata": {
        "id": "cu8Tuerg4Ej_"
      },
      "source": [
        "## ImageDataGenerator"
      ]
    },
    {
      "cell_type": "code",
      "execution_count": null,
      "metadata": {
        "id": "uOchBBnG4C5Q"
      },
      "outputs": [],
      "source": [
        "batch_size = 128\n",
        "train_datagen = ImageDataGenerator(\n",
        "    rotation_range=10,\n",
        "    width_shift_range=0.1,\n",
        "    height_shift_range=0.1,\n",
        "    #horizontal_flip=True\n",
        ")\n",
        "train_generator = train_datagen.flow(train_images, train_labels, batch_size=batch_size)"
      ]
    },
    {
      "cell_type": "markdown",
      "metadata": {
        "id": "OMrXEEt-4I8O"
      },
      "source": [
        "## Model definition"
      ]
    },
    {
      "cell_type": "code",
      "execution_count": null,
      "metadata": {
        "id": "7ehx_uxN4OCN"
      },
      "outputs": [],
      "source": [
        "model = tf.keras.Sequential([\n",
        "    tf.keras.layers.Conv2D(32, (3, 3), activation='relu', input_shape=input_shape),\n",
        "    tf.keras.layers.MaxPooling2D((2, 2)),\n",
        "    tf.keras.layers.Conv2D(64, (3, 3), activation='relu'),\n",
        "    tf.keras.layers.MaxPooling2D((2, 2)),\n",
        "    tf.keras.layers.Conv2D(128, (3, 3), activation='relu'),\n",
        "    tf.keras.layers.MaxPooling2D((2, 2)),\n",
        "    tf.keras.layers.MaxPool2D(2,2),\n",
        "    tf.keras.layers.Flatten(),\n",
        "    tf.keras.layers.Dense(512, activation='relu'),\n",
        "    tf.keras.layers.Dropout(0.5),\n",
        "    tf.keras.layers.Dense(256, activation='relu'),\n",
        "    tf.keras.layers.Dropout(0.5),\n",
        "    tf.keras.layers.Dense(128, activation='relu'),\n",
        "    tf.keras.layers.Dense(1, activation='sigmoid')  # Output neuron for binary classification\n",
        "])"
      ]
    },
    {
      "cell_type": "markdown",
      "metadata": {
        "id": "8mJkK_RD4Pgo"
      },
      "source": [
        "## Model summary"
      ]
    },
    {
      "cell_type": "code",
      "execution_count": null,
      "metadata": {
        "colab": {
          "base_uri": "https://localhost:8080/"
        },
        "id": "JdEQN9bo4Rho",
        "outputId": "66e85e79-79fe-465e-dfbd-7708ccb36850"
      },
      "outputs": [
        {
          "name": "stdout",
          "output_type": "stream",
          "text": [
            "Model: \"sequential_10\"\n",
            "_________________________________________________________________\n",
            " Layer (type)                Output Shape              Param #   \n",
            "=================================================================\n",
            " conv2d_30 (Conv2D)          (None, 30, 30, 32)        896       \n",
            "                                                                 \n",
            " max_pooling2d_39 (MaxPoolin  (None, 15, 15, 32)       0         \n",
            " g2D)                                                            \n",
            "                                                                 \n",
            " conv2d_31 (Conv2D)          (None, 13, 13, 64)        18496     \n",
            "                                                                 \n",
            " max_pooling2d_40 (MaxPoolin  (None, 6, 6, 64)         0         \n",
            " g2D)                                                            \n",
            "                                                                 \n",
            " conv2d_32 (Conv2D)          (None, 4, 4, 128)         73856     \n",
            "                                                                 \n",
            " max_pooling2d_41 (MaxPoolin  (None, 2, 2, 128)        0         \n",
            " g2D)                                                            \n",
            "                                                                 \n",
            " max_pooling2d_42 (MaxPoolin  (None, 1, 1, 128)        0         \n",
            " g2D)                                                            \n",
            "                                                                 \n",
            " flatten_10 (Flatten)        (None, 128)               0         \n",
            "                                                                 \n",
            " dense_40 (Dense)            (None, 512)               66048     \n",
            "                                                                 \n",
            " dropout_20 (Dropout)        (None, 512)               0         \n",
            "                                                                 \n",
            " dense_41 (Dense)            (None, 256)               131328    \n",
            "                                                                 \n",
            " dropout_21 (Dropout)        (None, 256)               0         \n",
            "                                                                 \n",
            " dense_42 (Dense)            (None, 128)               32896     \n",
            "                                                                 \n",
            " dense_43 (Dense)            (None, 1)                 129       \n",
            "                                                                 \n",
            "=================================================================\n",
            "Total params: 323,649\n",
            "Trainable params: 323,649\n",
            "Non-trainable params: 0\n",
            "_________________________________________________________________\n"
          ]
        }
      ],
      "source": [
        "model.summary()"
      ]
    },
    {
      "cell_type": "markdown",
      "metadata": {
        "id": "5YM0xSXC4Vyw"
      },
      "source": [
        "## Model compilation"
      ]
    },
    {
      "cell_type": "code",
      "execution_count": null,
      "metadata": {
        "colab": {
          "base_uri": "https://localhost:8080/"
        },
        "id": "bQkEo0JRfjNB",
        "outputId": "a216daf9-0516-426a-cd30-5ec4965e92d4"
      },
      "outputs": [
        {
          "name": "stdout",
          "output_type": "stream",
          "text": [
            "Epoch 1/80\n",
            "15/15 [==============================] - 8s 468ms/step - loss: 0.6957 - binary_accuracy: 0.4835 - val_loss: 0.6917 - val_binary_accuracy: 0.5240\n",
            "Epoch 2/80\n",
            "15/15 [==============================] - 4s 240ms/step - loss: 0.6929 - binary_accuracy: 0.5044 - val_loss: 0.6907 - val_binary_accuracy: 0.5240\n",
            "Epoch 3/80\n",
            "15/15 [==============================] - 4s 285ms/step - loss: 0.6926 - binary_accuracy: 0.5039 - val_loss: 0.6909 - val_binary_accuracy: 0.5240\n",
            "Epoch 4/80\n",
            "15/15 [==============================] - 6s 419ms/step - loss: 0.6927 - binary_accuracy: 0.5081 - val_loss: 0.6909 - val_binary_accuracy: 0.5240\n",
            "Epoch 5/80\n",
            "15/15 [==============================] - 4s 241ms/step - loss: 0.6919 - binary_accuracy: 0.5196 - val_loss: 0.6907 - val_binary_accuracy: 0.5240\n",
            "Epoch 6/80\n",
            "15/15 [==============================] - 4s 237ms/step - loss: 0.6930 - binary_accuracy: 0.5050 - val_loss: 0.6905 - val_binary_accuracy: 0.5240\n",
            "Epoch 7/80\n",
            "15/15 [==============================] - 5s 324ms/step - loss: 0.6911 - binary_accuracy: 0.5280 - val_loss: 0.6902 - val_binary_accuracy: 0.5240\n",
            "Epoch 8/80\n",
            "15/15 [==============================] - 5s 352ms/step - loss: 0.6916 - binary_accuracy: 0.5227 - val_loss: 0.6894 - val_binary_accuracy: 0.5240\n",
            "Epoch 9/80\n",
            "15/15 [==============================] - 4s 242ms/step - loss: 0.6908 - binary_accuracy: 0.5363 - val_loss: 0.6894 - val_binary_accuracy: 0.5219\n",
            "Epoch 10/80\n",
            "15/15 [==============================] - 6s 402ms/step - loss: 0.6904 - binary_accuracy: 0.5348 - val_loss: 0.6880 - val_binary_accuracy: 0.5240\n",
            "Epoch 11/80\n",
            "15/15 [==============================] - 4s 248ms/step - loss: 0.6897 - binary_accuracy: 0.5342 - val_loss: 0.6869 - val_binary_accuracy: 0.5240\n",
            "Epoch 12/80\n",
            "15/15 [==============================] - 4s 249ms/step - loss: 0.6900 - binary_accuracy: 0.5290 - val_loss: 0.6866 - val_binary_accuracy: 0.5344\n",
            "Epoch 13/80\n",
            "15/15 [==============================] - 5s 324ms/step - loss: 0.6888 - binary_accuracy: 0.5557 - val_loss: 0.6847 - val_binary_accuracy: 0.5616\n",
            "Epoch 14/80\n",
            "15/15 [==============================] - 5s 351ms/step - loss: 0.6874 - binary_accuracy: 0.5630 - val_loss: 0.6830 - val_binary_accuracy: 0.5658\n",
            "Epoch 15/80\n",
            "15/15 [==============================] - 4s 246ms/step - loss: 0.6880 - binary_accuracy: 0.5421 - val_loss: 0.6810 - val_binary_accuracy: 0.5428\n",
            "Epoch 16/80\n",
            "15/15 [==============================] - 4s 248ms/step - loss: 0.6855 - binary_accuracy: 0.5619 - val_loss: 0.6786 - val_binary_accuracy: 0.6013\n",
            "Epoch 17/80\n",
            "15/15 [==============================] - 6s 368ms/step - loss: 0.6829 - binary_accuracy: 0.5907 - val_loss: 0.6745 - val_binary_accuracy: 0.5908\n",
            "Epoch 18/80\n",
            "15/15 [==============================] - 4s 247ms/step - loss: 0.6817 - binary_accuracy: 0.5886 - val_loss: 0.6687 - val_binary_accuracy: 0.6159\n",
            "Epoch 19/80\n",
            "15/15 [==============================] - 6s 412ms/step - loss: 0.6768 - binary_accuracy: 0.6079 - val_loss: 0.6635 - val_binary_accuracy: 0.7265\n",
            "Epoch 20/80\n",
            "15/15 [==============================] - 5s 288ms/step - loss: 0.6732 - binary_accuracy: 0.6231 - val_loss: 0.6531 - val_binary_accuracy: 0.7411\n",
            "Epoch 21/80\n",
            "15/15 [==============================] - 4s 247ms/step - loss: 0.6589 - binary_accuracy: 0.6524 - val_loss: 0.6454 - val_binary_accuracy: 0.6117\n",
            "Epoch 22/80\n",
            "15/15 [==============================] - 4s 263ms/step - loss: 0.6520 - binary_accuracy: 0.6430 - val_loss: 0.6212 - val_binary_accuracy: 0.7370\n",
            "Epoch 23/80\n",
            "15/15 [==============================] - 7s 433ms/step - loss: 0.6346 - binary_accuracy: 0.6560 - val_loss: 0.5899 - val_binary_accuracy: 0.7537\n",
            "Epoch 24/80\n",
            "15/15 [==============================] - 4s 245ms/step - loss: 0.6198 - binary_accuracy: 0.6654 - val_loss: 0.5819 - val_binary_accuracy: 0.6848\n",
            "Epoch 25/80\n",
            "15/15 [==============================] - 4s 247ms/step - loss: 0.5964 - binary_accuracy: 0.6947 - val_loss: 0.5737 - val_binary_accuracy: 0.7015\n",
            "Epoch 26/80\n",
            "15/15 [==============================] - 6s 410ms/step - loss: 0.5732 - binary_accuracy: 0.7156 - val_loss: 0.5279 - val_binary_accuracy: 0.7265\n",
            "Epoch 27/80\n",
            "15/15 [==============================] - 5s 291ms/step - loss: 0.5578 - binary_accuracy: 0.7266 - val_loss: 0.5056 - val_binary_accuracy: 0.7641\n",
            "Epoch 28/80\n",
            "15/15 [==============================] - 4s 245ms/step - loss: 0.5436 - binary_accuracy: 0.7344 - val_loss: 0.5595 - val_binary_accuracy: 0.7098\n",
            "Epoch 29/80\n",
            "15/15 [==============================] - 4s 278ms/step - loss: 0.5175 - binary_accuracy: 0.7606 - val_loss: 0.4558 - val_binary_accuracy: 0.8038\n",
            "Epoch 30/80\n",
            "15/15 [==============================] - 7s 427ms/step - loss: 0.4835 - binary_accuracy: 0.7784 - val_loss: 0.4206 - val_binary_accuracy: 0.8330\n",
            "Epoch 31/80\n",
            "15/15 [==============================] - 4s 250ms/step - loss: 0.4530 - binary_accuracy: 0.8040 - val_loss: 0.4925 - val_binary_accuracy: 0.7599\n",
            "Epoch 32/80\n",
            "15/15 [==============================] - 4s 250ms/step - loss: 0.4480 - binary_accuracy: 0.7961 - val_loss: 0.3802 - val_binary_accuracy: 0.8163\n",
            "Epoch 33/80\n",
            "15/15 [==============================] - 7s 436ms/step - loss: 0.3937 - binary_accuracy: 0.8301 - val_loss: 0.3270 - val_binary_accuracy: 0.8643\n",
            "Epoch 34/80\n",
            "15/15 [==============================] - 4s 241ms/step - loss: 0.3977 - binary_accuracy: 0.8312 - val_loss: 0.3876 - val_binary_accuracy: 0.8121\n",
            "Epoch 35/80\n",
            "15/15 [==============================] - 4s 237ms/step - loss: 0.3566 - binary_accuracy: 0.8474 - val_loss: 0.2754 - val_binary_accuracy: 0.8914\n",
            "Epoch 36/80\n",
            "15/15 [==============================] - 6s 417ms/step - loss: 0.3533 - binary_accuracy: 0.8510 - val_loss: 0.3939 - val_binary_accuracy: 0.8142\n",
            "Epoch 37/80\n",
            "15/15 [==============================] - 4s 239ms/step - loss: 0.3911 - binary_accuracy: 0.8348 - val_loss: 0.3102 - val_binary_accuracy: 0.8768\n",
            "Epoch 38/80\n",
            "15/15 [==============================] - 4s 244ms/step - loss: 0.4351 - binary_accuracy: 0.7987 - val_loss: 0.2874 - val_binary_accuracy: 0.8914\n",
            "Epoch 39/80\n",
            "15/15 [==============================] - 5s 306ms/step - loss: 0.3856 - binary_accuracy: 0.8265 - val_loss: 0.2612 - val_binary_accuracy: 0.9019\n",
            "Epoch 40/80\n",
            "15/15 [==============================] - 6s 379ms/step - loss: 0.3510 - binary_accuracy: 0.8437 - val_loss: 0.4457 - val_binary_accuracy: 0.7850\n",
            "Epoch 41/80\n",
            "15/15 [==============================] - 4s 244ms/step - loss: 0.3278 - binary_accuracy: 0.8636 - val_loss: 0.2338 - val_binary_accuracy: 0.9019\n",
            "Epoch 42/80\n",
            "15/15 [==============================] - 4s 245ms/step - loss: 0.3308 - binary_accuracy: 0.8688 - val_loss: 0.3380 - val_binary_accuracy: 0.8434\n",
            "Epoch 43/80\n",
            "15/15 [==============================] - 5s 329ms/step - loss: 0.3203 - binary_accuracy: 0.8651 - val_loss: 0.2646 - val_binary_accuracy: 0.9144\n",
            "Epoch 44/80\n",
            "15/15 [==============================] - 5s 347ms/step - loss: 0.3146 - binary_accuracy: 0.8657 - val_loss: 0.2272 - val_binary_accuracy: 0.9123\n",
            "Epoch 45/80\n",
            "15/15 [==============================] - 4s 243ms/step - loss: 0.2459 - binary_accuracy: 0.9028 - val_loss: 0.1954 - val_binary_accuracy: 0.9290\n",
            "Epoch 46/80\n",
            "15/15 [==============================] - 4s 238ms/step - loss: 0.2503 - binary_accuracy: 0.9054 - val_loss: 0.1802 - val_binary_accuracy: 0.9332\n",
            "Epoch 47/80\n",
            "15/15 [==============================] - 7s 436ms/step - loss: 0.2116 - binary_accuracy: 0.9174 - val_loss: 0.1849 - val_binary_accuracy: 0.9311\n",
            "Epoch 48/80\n",
            "15/15 [==============================] - 4s 249ms/step - loss: 0.2150 - binary_accuracy: 0.9221 - val_loss: 0.1976 - val_binary_accuracy: 0.9269\n",
            "Epoch 49/80\n",
            "15/15 [==============================] - 4s 246ms/step - loss: 0.2515 - binary_accuracy: 0.8981 - val_loss: 0.1655 - val_binary_accuracy: 0.9395\n",
            "Epoch 50/80\n",
            "15/15 [==============================] - 4s 296ms/step - loss: 0.2085 - binary_accuracy: 0.9205 - val_loss: 0.1815 - val_binary_accuracy: 0.9290\n",
            "Epoch 51/80\n",
            "15/15 [==============================] - 6s 397ms/step - loss: 0.1897 - binary_accuracy: 0.9268 - val_loss: 0.1797 - val_binary_accuracy: 0.9311\n",
            "Epoch 52/80\n",
            "15/15 [==============================] - 4s 244ms/step - loss: 0.1730 - binary_accuracy: 0.9362 - val_loss: 0.2082 - val_binary_accuracy: 0.9269\n",
            "Epoch 53/80\n",
            "15/15 [==============================] - 4s 245ms/step - loss: 0.2011 - binary_accuracy: 0.9195 - val_loss: 0.1465 - val_binary_accuracy: 0.9436\n",
            "Epoch 54/80\n",
            "15/15 [==============================] - 7s 427ms/step - loss: 0.1832 - binary_accuracy: 0.9273 - val_loss: 0.1322 - val_binary_accuracy: 0.9499\n",
            "Epoch 55/80\n",
            "15/15 [==============================] - 4s 246ms/step - loss: 0.1715 - binary_accuracy: 0.9378 - val_loss: 0.1728 - val_binary_accuracy: 0.9415\n",
            "Epoch 56/80\n",
            "15/15 [==============================] - 4s 244ms/step - loss: 0.1986 - binary_accuracy: 0.9263 - val_loss: 0.1374 - val_binary_accuracy: 0.9499\n",
            "Epoch 57/80\n",
            "15/15 [==============================] - 6s 392ms/step - loss: 0.1550 - binary_accuracy: 0.9425 - val_loss: 0.1170 - val_binary_accuracy: 0.9562\n",
            "Epoch 58/80\n",
            "15/15 [==============================] - 5s 304ms/step - loss: 0.2021 - binary_accuracy: 0.9195 - val_loss: 0.1233 - val_binary_accuracy: 0.9520\n",
            "Epoch 59/80\n",
            "15/15 [==============================] - 4s 245ms/step - loss: 0.1597 - binary_accuracy: 0.9441 - val_loss: 0.1146 - val_binary_accuracy: 0.9582\n",
            "Epoch 60/80\n",
            "15/15 [==============================] - 5s 322ms/step - loss: 0.1426 - binary_accuracy: 0.9462 - val_loss: 0.1446 - val_binary_accuracy: 0.9436\n",
            "Epoch 61/80\n",
            "15/15 [==============================] - 6s 368ms/step - loss: 0.1956 - binary_accuracy: 0.9216 - val_loss: 0.1420 - val_binary_accuracy: 0.9374\n",
            "Epoch 62/80\n",
            "15/15 [==============================] - 4s 238ms/step - loss: 0.1560 - binary_accuracy: 0.9420 - val_loss: 0.1266 - val_binary_accuracy: 0.9478\n",
            "Epoch 63/80\n",
            "15/15 [==============================] - 4s 237ms/step - loss: 0.1271 - binary_accuracy: 0.9524 - val_loss: 0.0772 - val_binary_accuracy: 0.9708\n",
            "Epoch 64/80\n",
            "15/15 [==============================] - 6s 390ms/step - loss: 0.1234 - binary_accuracy: 0.9566 - val_loss: 0.0922 - val_binary_accuracy: 0.9666\n",
            "Epoch 65/80\n",
            "15/15 [==============================] - 4s 236ms/step - loss: 0.1142 - binary_accuracy: 0.9577 - val_loss: 0.0975 - val_binary_accuracy: 0.9541\n",
            "Epoch 66/80\n",
            "15/15 [==============================] - 4s 244ms/step - loss: 0.1589 - binary_accuracy: 0.9404 - val_loss: 0.0915 - val_binary_accuracy: 0.9708\n",
            "Epoch 67/80\n",
            "15/15 [==============================] - 6s 379ms/step - loss: 0.1524 - binary_accuracy: 0.9420 - val_loss: 0.1675 - val_binary_accuracy: 0.9436\n",
            "Epoch 68/80\n",
            "15/15 [==============================] - 5s 315ms/step - loss: 0.1352 - binary_accuracy: 0.9503 - val_loss: 0.1183 - val_binary_accuracy: 0.9582\n",
            "Epoch 69/80\n",
            "15/15 [==============================] - 4s 245ms/step - loss: 0.0973 - binary_accuracy: 0.9660 - val_loss: 0.0728 - val_binary_accuracy: 0.9708\n",
            "Epoch 70/80\n",
            "15/15 [==============================] - 4s 244ms/step - loss: 0.1261 - binary_accuracy: 0.9488 - val_loss: 0.1568 - val_binary_accuracy: 0.9478\n",
            "Epoch 71/80\n",
            "15/15 [==============================] - 6s 416ms/step - loss: 0.1824 - binary_accuracy: 0.9279 - val_loss: 0.1693 - val_binary_accuracy: 0.9311\n",
            "Epoch 72/80\n",
            "15/15 [==============================] - 4s 247ms/step - loss: 0.1612 - binary_accuracy: 0.9336 - val_loss: 0.0875 - val_binary_accuracy: 0.9687\n",
            "Epoch 73/80\n",
            "15/15 [==============================] - 4s 264ms/step - loss: 0.1507 - binary_accuracy: 0.9378 - val_loss: 0.1026 - val_binary_accuracy: 0.9603\n",
            "Epoch 74/80\n",
            "15/15 [==============================] - 6s 420ms/step - loss: 0.1412 - binary_accuracy: 0.9441 - val_loss: 0.0722 - val_binary_accuracy: 0.9791\n",
            "Epoch 75/80\n",
            "15/15 [==============================] - 4s 247ms/step - loss: 0.1084 - binary_accuracy: 0.9671 - val_loss: 0.0987 - val_binary_accuracy: 0.9603\n",
            "Epoch 76/80\n",
            "15/15 [==============================] - 4s 242ms/step - loss: 0.0871 - binary_accuracy: 0.9686 - val_loss: 0.0806 - val_binary_accuracy: 0.9687\n",
            "Epoch 77/80\n",
            "15/15 [==============================] - 6s 394ms/step - loss: 0.1034 - binary_accuracy: 0.9613 - val_loss: 0.0788 - val_binary_accuracy: 0.9729\n",
            "Epoch 78/80\n",
            "15/15 [==============================] - 5s 308ms/step - loss: 0.1104 - binary_accuracy: 0.9645 - val_loss: 0.0881 - val_binary_accuracy: 0.9624\n",
            "Epoch 79/80\n",
            "15/15 [==============================] - 4s 247ms/step - loss: 0.1164 - binary_accuracy: 0.9577 - val_loss: 0.0845 - val_binary_accuracy: 0.9687\n",
            "Epoch 80/80\n",
            "15/15 [==============================] - 4s 284ms/step - loss: 0.0855 - binary_accuracy: 0.9723 - val_loss: 0.0988 - val_binary_accuracy: 0.9645\n",
            "19/19 [==============================] - 1s 27ms/step - loss: 0.1143 - binary_accuracy: 0.9648\n",
            "Test loss: 0.11430122703313828\n"
          ]
        }
      ],
      "source": [
        "# Model Compilation\n",
        "optimizer = SGD(learning_rate=0.01, momentum=0.9)\n",
        "model.compile(optimizer=optimizer,\n",
        "              loss='binary_crossentropy',\n",
        "              metrics=['binary_accuracy'])\n",
        "\n",
        "#Model Training\n",
        "epochs = 80\n",
        "model.fit(train_generator, epochs=epochs, validation_data=(val_images, val_labels))\n",
        "\n",
        "# Model Evaluation\n",
        "test_loss, test_acc = model.evaluate(test_images, test_labels)\n",
        "print('Test loss:', test_loss)"
      ]
    },
    {
      "cell_type": "markdown",
      "metadata": {
        "id": "ieIqwQet4e2N"
      },
      "source": [
        "## Make predictions on the test images"
      ]
    },
    {
      "cell_type": "code",
      "execution_count": null,
      "metadata": {
        "colab": {
          "base_uri": "https://localhost:8080/"
        },
        "id": "lFyQEp0JtcEd",
        "outputId": "224f84a3-a7c1-4863-acc2-51a63af038c9"
      },
      "outputs": [
        {
          "name": "stdout",
          "output_type": "stream",
          "text": [
            "19/19 [==============================] - 1s 26ms/step\n"
          ]
        }
      ],
      "source": [
        "test_predictions = model.predict(test_images)\n",
        "test_predictions = (test_predictions > 0.5).astype(int).flatten()\n"
      ]
    },
    {
      "cell_type": "markdown",
      "metadata": {
        "id": "NKOsj-W64gms"
      },
      "source": [
        "## Classification report"
      ]
    },
    {
      "cell_type": "code",
      "execution_count": null,
      "metadata": {
        "colab": {
          "base_uri": "https://localhost:8080/"
        },
        "id": "Lqtay4QmwEEo",
        "outputId": "015119f0-8f3e-4ffe-bfc6-e59c637b8c85"
      },
      "outputs": [
        {
          "name": "stdout",
          "output_type": "stream",
          "text": [
            "              precision    recall  f1-score   support\n",
            "\n",
            "           0       1.00      0.93      0.96       290\n",
            "           1       0.94      1.00      0.97       307\n",
            "\n",
            "    accuracy                           0.96       597\n",
            "   macro avg       0.97      0.96      0.96       597\n",
            "weighted avg       0.97      0.96      0.96       597\n",
            "\n"
          ]
        }
      ],
      "source": [
        "from sklearn.metrics import classification_report\n",
        "\n",
        "print(classification_report(test_labels, test_predictions))"
      ]
    },
    {
      "cell_type": "markdown",
      "metadata": {
        "id": "t4kAPL8Y4iLD"
      },
      "source": [
        "## Confusion matrix"
      ]
    },
    {
      "cell_type": "code",
      "execution_count": null,
      "metadata": {
        "colab": {
          "base_uri": "https://localhost:8080/",
          "height": 564
        },
        "id": "wTVyTt9MxEi5",
        "outputId": "1245ad74-827d-45d1-8579-73f9ec245ef2"
      },
      "outputs": [
        {
          "data": {
            "image/png": "[encoded data removed]",
            "text/plain": [
              "<Figure size 800x600 with 2 Axes>"
            ]
          },
          "metadata": {},
          "output_type": "display_data"
        }
      ],
      "source": [
        "import matplotlib.pyplot as plt\n",
        "import seaborn as sns\n",
        "\n",
        "# Compute confusion matrix\n",
        "confusion_mat = confusion_matrix(test_labels, test_predictions)\n",
        "\n",
        "# Create a heatmap plot\n",
        "plt.figure(figsize=(8, 6))\n",
        "sns.heatmap(confusion_mat, annot=True, fmt='d', cmap='Blues')\n",
        "plt.xlabel('Predicted Labels')\n",
        "plt.ylabel('True Labels')\n",
        "plt.title('Confusion Matrix')\n",
        "plt.show()\n"
      ]
    },
    {
      "cell_type": "markdown",
      "metadata": {
        "id": "wtJzgaY7Ey4h"
      },
      "source": [
        "# Vision Transformers"
      ]
    },
    {
      "cell_type": "code",
      "execution_count": null,
      "metadata": {
        "colab": {
          "base_uri": "https://localhost:8080/"
        },
        "id": "XYcwVtl5E1aT",
        "outputId": "18d86ba4-3ecb-4ff6-e629-9fd49dc4823b"
      },
      "outputs": [
        {
          "output_type": "stream",
          "name": "stdout",
          "text": [
            "Requirement already satisfied: patchify in /usr/local/lib/python3.10/dist-packages (0.2.3)\n",
            "Requirement already satisfied: numpy<2,>=1 in /usr/local/lib/python3.10/dist-packages (from patchify) (1.22.4)\n"
          ]
        }
      ],
      "source": [
        "!pip install patchify"
      ]
    },
    {
      "cell_type": "code",
      "execution_count": null,
      "metadata": {
        "id": "yoOU3dXWEf9K"
      },
      "outputs": [],
      "source": [
        "from patchify import patchify\n",
        "from sklearn.utils import shuffle\n",
        "from sklearn.model_selection import train_test_split\n",
        "import cv2\n",
        "import tensorflow as tf\n",
        "import os\n",
        "from glob import glob\n",
        "import numpy as np"
      ]
    },
    {
      "cell_type": "markdown",
      "metadata": {
        "id": "JrS62BLGE47w"
      },
      "source": [
        "## Hyperparemeters"
      ]
    },
    {
      "cell_type": "code",
      "execution_count": null,
      "metadata": {
        "id": "W851a3YXE3Fq"
      },
      "outputs": [],
      "source": [
        "hp = {}\n",
        "hp['image_size'] = 200\n",
        "hp['num_channels'] = 3\n",
        "hp['patch_size'] = 25\n",
        "hp['num_patches'] = (hp['image_size']**2) // (hp['patch_size']**2)\n",
        "hp['flat_patches_shape'] = (hp['num_patches'], hp['patch_size']*hp['patch_size']*hp['num_channels'])\n",
        "\n",
        "hp['batch_size'] = 32\n",
        "hp['lr'] = 1e-4\n",
        "hp['num_epochs'] = 50\n",
        "hp['num_classes'] = 2\n",
        "hp['class_names'] = ['flip', 'notflip']\n",
        "\n",
        "hp[\"num_layers\"] = 12\n",
        "hp[\"hidden_dim\"] = 768\n",
        "hp[\"mlp_dim\"] = 3072\n",
        "hp[\"num_heads\"] = 12\n",
        "hp[\"dropout_rate\"] = 0.1\n"
      ]
    },
    {
      "cell_type": "code",
      "execution_count": null,
      "metadata": {
        "id": "H-2iCV7rGKig"
      },
      "outputs": [],
      "source": [
        "def create_dir(path):\n",
        "  if not os.path.exists(path):\n",
        "    os.makedirs(path)"
      ]
    },
    {
      "cell_type": "code",
      "execution_count": null,
      "metadata": {
        "id": "9G6njLUmGtds"
      },
      "outputs": [],
      "source": [
        "def load_data(path, split=0.2):\n",
        "    images = shuffle(glob(os.path.join(path, \"*\", \"*.jpg\")))\n",
        "    split_size = int(len(images) * split)\n",
        "    train_x, valid_x = train_test_split(images, test_size=split_size, random_state=42)\n",
        "    train_x, test_x = train_test_split(train_x, test_size=split_size, random_state=42)\n",
        "    return train_x, valid_x, test_x\n",
        "\n"
      ]
    },
    {
      "cell_type": "code",
      "source": [
        "def load_test_data(path):\n",
        "    images = shuffle(glob(os.path.join(path, \"*\", \"*.jpg\")))\n",
        "    test_x2 = images\n",
        "    return test_x2\n",
        "\n"
      ],
      "metadata": {
        "id": "7ocwAlvi8gKZ"
      },
      "execution_count": null,
      "outputs": []
    },
    {
      "cell_type": "code",
      "execution_count": null,
      "metadata": {
        "id": "1qIkpIrdJnMQ"
      },
      "outputs": [],
      "source": [
        "from tensorflow.python.ops.stateless_random_ops import split\n",
        "def process_image_label(path):\n",
        "  path = path.decode()\n",
        "  \"\"\" reading images \"\"\"\n",
        "  image = cv2.imread(path, cv2.IMREAD_COLOR)\n",
        "  image = cv2.resize(image, (hp['image_size'], hp['image_size']))\n",
        "  #image = image/255.0\n",
        "  #print(image.shape)\n",
        "  \"\"\" Preprocessing to patches\"\"\"\n",
        "  patch_shape = (hp['patch_size'], hp['patch_size'], hp['num_channels'])\n",
        "  patches = patchify(image, patch_shape, hp['patch_size'])\n",
        "  patches = np.reshape(patches, (64,25,25,3))\n",
        "  \"\"\" Printing the patches\"\"\"\n",
        "  \"\"\"\n",
        "  for i in range(64):\n",
        "    cv2.imwrite(f\"/content/drive/MyDrive/MonReader/files/{i}.png\", patches[i])\n",
        "  print(patches.shape)\n",
        "  \"\"\"\n",
        "  patches = np.reshape(patches, hp['flat_patches_shape'])\n",
        "  patches = patches.astype(np.float32)\n",
        "\n",
        "\n",
        "  \"\"\" Label \"\"\"\n",
        "  class_name = path.split('/')[-2]\n",
        "  #print(class_name)\n",
        "  class_idx = hp['class_names'].index(class_name)\n",
        "  class_idx = np.array(class_idx, dtype=np.int32)\n",
        "  #print(class_idx)\n",
        "\n",
        "  return patches, class_idx\n"
      ]
    },
    {
      "cell_type": "code",
      "execution_count": null,
      "metadata": {
        "id": "21ZA0ZgJNrpS"
      },
      "outputs": [],
      "source": [
        "def parse(path):\n",
        "  patches, labels = tf.numpy_function(process_image_label, [path], [tf.float32, tf.int32])\n",
        "  labels = tf.one_hot(labels, hp['num_classes'])\n",
        "\n",
        "  patches.set_shape(hp['flat_patches_shape'])\n",
        "  labels.set_shape(hp['num_classes'])\n",
        "\n",
        "  return patches, labels\n",
        "\n",
        "def tf_dataset(images, batch=32):\n",
        "    ds = tf.data.Dataset.from_tensor_slices((images))\n",
        "    ds = ds.map(parse).batch(batch).prefetch(8)\n",
        "    return ds"
      ]
    },
    {
      "cell_type": "code",
      "execution_count": null,
      "metadata": {
        "id": "azfAP5IPOdlB"
      },
      "outputs": [],
      "source": [
        "def tf_dataset(images, batch=32):\n",
        "  ds = tf.data.Dataset.from_tensor_slices((images))\n",
        "  ds = ds.map(parse).batch(batch).prefetch(8)\n",
        "  return ds"
      ]
    },
    {
      "cell_type": "code",
      "execution_count": null,
      "metadata": {
        "id": "uTbGew-OGAKt"
      },
      "outputs": [],
      "source": [
        "if __name__ == \"__main__\":\n",
        "  \"\"\"Seeding\"\"\"\n",
        "  np.random.seed(42)\n",
        "  tf.random.set_seed(42)\n",
        "\n",
        "  create_dir(\"/content/drive/MyDrive/MonReader/files\")\n",
        "  dataset_path = \"/content/drive/MyDrive/MonReader/images (1)/images/training\"\n",
        "  model_path = os.path.join(\"files\", \"model.h5\")\n",
        "  csv_path = os.path.join(\"files\", \"log.csv\")\n",
        "  \"\"\" Dataset training \"\"\"\n",
        "  train_x, valid_x, test_x = load_data(dataset_path)\n",
        "\n",
        "  train_ds = tf_dataset(train_x, batch=hp['batch_size'])\n",
        "  valid_ds = tf_dataset(valid_x, batch=hp['batch_size'])\n",
        "  test_x = load_test_data('/content/drive/MyDrive/MonReader/images (1)/images/testing')\n",
        "  test_ds = tf_dataset(test_x, batch=hp['batch_size'])\n",
        "\n"
      ]
    },
    {
      "cell_type": "code",
      "source": [],
      "metadata": {
        "colab": {
          "base_uri": "https://localhost:8080/",
          "height": 165
        },
        "id": "J8tWBl65C0gS",
        "outputId": "f407a872-bc1e-47d3-c7e0-9f419efe925b"
      },
      "execution_count": null,
      "outputs": [
        {
          "output_type": "error",
          "ename": "AttributeError",
          "evalue": "ignored",
          "traceback": [
            "\u001b[0;31m---------------------------------------------------------------------------\u001b[0m",
            "\u001b[0;31mAttributeError\u001b[0m                            Traceback (most recent call last)",
            "\u001b[0;32m<ipython-input-42-ddabaae5c20e>\u001b[0m in \u001b[0;36m<cell line: 1>\u001b[0;34m()\u001b[0m\n\u001b[0;32m----> 1\u001b[0;31m \u001b[0mtest_ds\u001b[0m\u001b[0;34m.\u001b[0m\u001b[0mlabels\u001b[0m\u001b[0;34m\u001b[0m\u001b[0;34m\u001b[0m\u001b[0m\n\u001b[0m",
            "\u001b[0;31mAttributeError\u001b[0m: '_PrefetchDataset' object has no attribute 'labels'"
          ]
        }
      ]
    },
    {
      "cell_type": "markdown",
      "metadata": {
        "id": "3CYcsrRQPyg5"
      },
      "source": [
        "## Model"
      ]
    },
    {
      "cell_type": "code",
      "execution_count": null,
      "metadata": {
        "id": "gYmyYidjH4xi"
      },
      "outputs": [],
      "source": [
        "from tensorflow.keras.layers import *\n",
        "from tensorflow.keras.models import Model\n"
      ]
    },
    {
      "cell_type": "code",
      "execution_count": null,
      "metadata": {
        "id": "eZEk4sDIQSIh"
      },
      "outputs": [],
      "source": [
        "class ClassToken(Layer):\n",
        "    def __init__(self):\n",
        "        super().__init__()\n",
        "\n",
        "    def build(self, input_shape):\n",
        "        w_init = tf.random_normal_initializer()\n",
        "        self.w = tf.Variable(\n",
        "            initial_value = w_init(shape=(1, 1, input_shape[-1]), dtype=tf.float32),\n",
        "            trainable = True\n",
        "        )\n",
        "\n",
        "    def call(self, inputs):\n",
        "        batch_size = tf.shape(inputs)[0]\n",
        "        hidden_dim = self.w.shape[-1]\n",
        "\n",
        "        cls = tf.broadcast_to(self.w, [batch_size, 1, hidden_dim])\n",
        "        cls = tf.cast(cls, dtype=inputs.dtype)\n",
        "        return cls\n",
        "\n",
        "def mlp(x, cf):\n",
        "    x = Dense(cf[\"mlp_dim\"], activation=\"gelu\")(x)\n",
        "    x = Dropout(cf[\"dropout_rate\"])(x)\n",
        "    x = Dense(cf[\"hidden_dim\"])(x)\n",
        "    x = Dropout(cf[\"dropout_rate\"])(x)\n",
        "    return x\n",
        "\n",
        "def transformer_encoder(x, cf):\n",
        "    skip_1 = x\n",
        "    x = LayerNormalization()(x)\n",
        "    x = MultiHeadAttention(\n",
        "        num_heads=cf[\"num_heads\"], key_dim=cf[\"hidden_dim\"]\n",
        "    )(x, x)\n",
        "    x = Add()([x, skip_1])\n",
        "\n",
        "    skip_2 = x\n",
        "    x = LayerNormalization()(x)\n",
        "    x = mlp(x, cf)\n",
        "    x = Add()([x, skip_2])\n",
        "\n",
        "    return x"
      ]
    },
    {
      "cell_type": "code",
      "execution_count": null,
      "metadata": {
        "id": "-BRF8iJIQLJm"
      },
      "outputs": [],
      "source": [
        "def ViT(cf):\n",
        "    \"\"\" Inputs \"\"\"\n",
        "    input_shape = (cf[\"num_patches\"], cf[\"patch_size\"]*cf[\"patch_size\"]*cf[\"num_channels\"])\n",
        "    inputs = Input(input_shape)     ## (None, 256, 3072)\n",
        "\n",
        "    \"\"\" Patch + Position Embeddings \"\"\"\n",
        "    patch_embed = Dense(cf[\"hidden_dim\"])(inputs)   ## (None, 256, 768)\n",
        "\n",
        "    positions = tf.range(start=0, limit=cf[\"num_patches\"], delta=1)\n",
        "    pos_embed = Embedding(input_dim=cf[\"num_patches\"], output_dim=cf[\"hidden_dim\"])(positions) ## (256, 768)\n",
        "    embed = patch_embed + pos_embed ## (None, 256, 768)\n",
        "\n",
        "    \"\"\" Adding Class Token \"\"\"\n",
        "    token = ClassToken()(embed)\n",
        "    x = Concatenate(axis=1)([token, embed]) ## (None, 257, 768)\n",
        "\n",
        "    for _ in range(cf[\"num_layers\"]):\n",
        "        x = transformer_encoder(x, cf)\n",
        "\n",
        "    \"\"\" Classification Head \"\"\"\n",
        "    x = LayerNormalization()(x)     ## (None, 257, 768)\n",
        "    x = x[:, 0, :]\n",
        "    x = Dense(cf[\"num_classes\"], activation=\"softmax\")(x)\n",
        "\n",
        "    model = Model(inputs, x)\n",
        "    return model"
      ]
    },
    {
      "cell_type": "code",
      "execution_count": null,
      "metadata": {
        "colab": {
          "base_uri": "https://localhost:8080/"
        },
        "id": "jsI-_7KOQI_m",
        "outputId": "51a1bd1f-83c3-4d2a-cc67-981677301780"
      },
      "outputs": [
        {
          "output_type": "stream",
          "name": "stdout",
          "text": [
            "Model: \"model\"\n",
            "__________________________________________________________________________________________________\n",
            " Layer (type)                   Output Shape         Param #     Connected to                     \n",
            "==================================================================================================\n",
            " input_1 (InputLayer)           [(None, 256, 3072)]  0           []                               \n",
            "                                                                                                  \n",
            " dense (Dense)                  (None, 256, 768)     2360064     ['input_1[0][0]']                \n",
            "                                                                                                  \n",
            " tf.__operators__.add (TFOpLamb  (None, 256, 768)    0           ['dense[0][0]']                  \n",
            " da)                                                                                              \n",
            "                                                                                                  \n",
            " class_token (ClassToken)       (None, 1, 768)       768         ['tf.__operators__.add[0][0]']   \n",
            "                                                                                                  \n",
            " concatenate (Concatenate)      (None, 257, 768)     0           ['class_token[0][0]',            \n",
            "                                                                  'tf.__operators__.add[0][0]']   \n",
            "                                                                                                  \n",
            " layer_normalization (LayerNorm  (None, 257, 768)    1536        ['concatenate[0][0]']            \n",
            " alization)                                                                                       \n",
            "                                                                                                  \n",
            " multi_head_attention (MultiHea  (None, 257, 768)    28339968    ['layer_normalization[0][0]',    \n",
            " dAttention)                                                      'layer_normalization[0][0]']    \n",
            "                                                                                                  \n",
            " add (Add)                      (None, 257, 768)     0           ['multi_head_attention[0][0]',   \n",
            "                                                                  'concatenate[0][0]']            \n",
            "                                                                                                  \n",
            " layer_normalization_1 (LayerNo  (None, 257, 768)    1536        ['add[0][0]']                    \n",
            " rmalization)                                                                                     \n",
            "                                                                                                  \n",
            " dense_1 (Dense)                (None, 257, 3072)    2362368     ['layer_normalization_1[0][0]']  \n",
            "                                                                                                  \n",
            " dropout (Dropout)              (None, 257, 3072)    0           ['dense_1[0][0]']                \n",
            "                                                                                                  \n",
            " dense_2 (Dense)                (None, 257, 768)     2360064     ['dropout[0][0]']                \n",
            "                                                                                                  \n",
            " dropout_1 (Dropout)            (None, 257, 768)     0           ['dense_2[0][0]']                \n",
            "                                                                                                  \n",
            " add_1 (Add)                    (None, 257, 768)     0           ['dropout_1[0][0]',              \n",
            "                                                                  'add[0][0]']                    \n",
            "                                                                                                  \n",
            " layer_normalization_2 (LayerNo  (None, 257, 768)    1536        ['add_1[0][0]']                  \n",
            " rmalization)                                                                                     \n",
            "                                                                                                  \n",
            " multi_head_attention_1 (MultiH  (None, 257, 768)    28339968    ['layer_normalization_2[0][0]',  \n",
            " eadAttention)                                                    'layer_normalization_2[0][0]']  \n",
            "                                                                                                  \n",
            " add_2 (Add)                    (None, 257, 768)     0           ['multi_head_attention_1[0][0]', \n",
            "                                                                  'add_1[0][0]']                  \n",
            "                                                                                                  \n",
            " layer_normalization_3 (LayerNo  (None, 257, 768)    1536        ['add_2[0][0]']                  \n",
            " rmalization)                                                                                     \n",
            "                                                                                                  \n",
            " dense_3 (Dense)                (None, 257, 3072)    2362368     ['layer_normalization_3[0][0]']  \n",
            "                                                                                                  \n",
            " dropout_2 (Dropout)            (None, 257, 3072)    0           ['dense_3[0][0]']                \n",
            "                                                                                                  \n",
            " dense_4 (Dense)                (None, 257, 768)     2360064     ['dropout_2[0][0]']              \n",
            "                                                                                                  \n",
            " dropout_3 (Dropout)            (None, 257, 768)     0           ['dense_4[0][0]']                \n",
            "                                                                                                  \n",
            " add_3 (Add)                    (None, 257, 768)     0           ['dropout_3[0][0]',              \n",
            "                                                                  'add_2[0][0]']                  \n",
            "                                                                                                  \n",
            " layer_normalization_4 (LayerNo  (None, 257, 768)    1536        ['add_3[0][0]']                  \n",
            " rmalization)                                                                                     \n",
            "                                                                                                  \n",
            " multi_head_attention_2 (MultiH  (None, 257, 768)    28339968    ['layer_normalization_4[0][0]',  \n",
            " eadAttention)                                                    'layer_normalization_4[0][0]']  \n",
            "                                                                                                  \n",
            " add_4 (Add)                    (None, 257, 768)     0           ['multi_head_attention_2[0][0]', \n",
            "                                                                  'add_3[0][0]']                  \n",
            "                                                                                                  \n",
            " layer_normalization_5 (LayerNo  (None, 257, 768)    1536        ['add_4[0][0]']                  \n",
            " rmalization)                                                                                     \n",
            "                                                                                                  \n",
            " dense_5 (Dense)                (None, 257, 3072)    2362368     ['layer_normalization_5[0][0]']  \n",
            "                                                                                                  \n",
            " dropout_4 (Dropout)            (None, 257, 3072)    0           ['dense_5[0][0]']                \n",
            "                                                                                                  \n",
            " dense_6 (Dense)                (None, 257, 768)     2360064     ['dropout_4[0][0]']              \n",
            "                                                                                                  \n",
            " dropout_5 (Dropout)            (None, 257, 768)     0           ['dense_6[0][0]']                \n",
            "                                                                                                  \n",
            " add_5 (Add)                    (None, 257, 768)     0           ['dropout_5[0][0]',              \n",
            "                                                                  'add_4[0][0]']                  \n",
            "                                                                                                  \n",
            " layer_normalization_6 (LayerNo  (None, 257, 768)    1536        ['add_5[0][0]']                  \n",
            " rmalization)                                                                                     \n",
            "                                                                                                  \n",
            " multi_head_attention_3 (MultiH  (None, 257, 768)    28339968    ['layer_normalization_6[0][0]',  \n",
            " eadAttention)                                                    'layer_normalization_6[0][0]']  \n",
            "                                                                                                  \n",
            " add_6 (Add)                    (None, 257, 768)     0           ['multi_head_attention_3[0][0]', \n",
            "                                                                  'add_5[0][0]']                  \n",
            "                                                                                                  \n",
            " layer_normalization_7 (LayerNo  (None, 257, 768)    1536        ['add_6[0][0]']                  \n",
            " rmalization)                                                                                     \n",
            "                                                                                                  \n",
            " dense_7 (Dense)                (None, 257, 3072)    2362368     ['layer_normalization_7[0][0]']  \n",
            "                                                                                                  \n",
            " dropout_6 (Dropout)            (None, 257, 3072)    0           ['dense_7[0][0]']                \n",
            "                                                                                                  \n",
            " dense_8 (Dense)                (None, 257, 768)     2360064     ['dropout_6[0][0]']              \n",
            "                                                                                                  \n",
            " dropout_7 (Dropout)            (None, 257, 768)     0           ['dense_8[0][0]']                \n",
            "                                                                                                  \n",
            " add_7 (Add)                    (None, 257, 768)     0           ['dropout_7[0][0]',              \n",
            "                                                                  'add_6[0][0]']                  \n",
            "                                                                                                  \n",
            " layer_normalization_8 (LayerNo  (None, 257, 768)    1536        ['add_7[0][0]']                  \n",
            " rmalization)                                                                                     \n",
            "                                                                                                  \n",
            " multi_head_attention_4 (MultiH  (None, 257, 768)    28339968    ['layer_normalization_8[0][0]',  \n",
            " eadAttention)                                                    'layer_normalization_8[0][0]']  \n",
            "                                                                                                  \n",
            " add_8 (Add)                    (None, 257, 768)     0           ['multi_head_attention_4[0][0]', \n",
            "                                                                  'add_7[0][0]']                  \n",
            "                                                                                                  \n",
            " layer_normalization_9 (LayerNo  (None, 257, 768)    1536        ['add_8[0][0]']                  \n",
            " rmalization)                                                                                     \n",
            "                                                                                                  \n",
            " dense_9 (Dense)                (None, 257, 3072)    2362368     ['layer_normalization_9[0][0]']  \n",
            "                                                                                                  \n",
            " dropout_8 (Dropout)            (None, 257, 3072)    0           ['dense_9[0][0]']                \n",
            "                                                                                                  \n",
            " dense_10 (Dense)               (None, 257, 768)     2360064     ['dropout_8[0][0]']              \n",
            "                                                                                                  \n",
            " dropout_9 (Dropout)            (None, 257, 768)     0           ['dense_10[0][0]']               \n",
            "                                                                                                  \n",
            " add_9 (Add)                    (None, 257, 768)     0           ['dropout_9[0][0]',              \n",
            "                                                                  'add_8[0][0]']                  \n",
            "                                                                                                  \n",
            " layer_normalization_10 (LayerN  (None, 257, 768)    1536        ['add_9[0][0]']                  \n",
            " ormalization)                                                                                    \n",
            "                                                                                                  \n",
            " multi_head_attention_5 (MultiH  (None, 257, 768)    28339968    ['layer_normalization_10[0][0]', \n",
            " eadAttention)                                                    'layer_normalization_10[0][0]'] \n",
            "                                                                                                  \n",
            " add_10 (Add)                   (None, 257, 768)     0           ['multi_head_attention_5[0][0]', \n",
            "                                                                  'add_9[0][0]']                  \n",
            "                                                                                                  \n",
            " layer_normalization_11 (LayerN  (None, 257, 768)    1536        ['add_10[0][0]']                 \n",
            " ormalization)                                                                                    \n",
            "                                                                                                  \n",
            " dense_11 (Dense)               (None, 257, 3072)    2362368     ['layer_normalization_11[0][0]'] \n",
            "                                                                                                  \n",
            " dropout_10 (Dropout)           (None, 257, 3072)    0           ['dense_11[0][0]']               \n",
            "                                                                                                  \n",
            " dense_12 (Dense)               (None, 257, 768)     2360064     ['dropout_10[0][0]']             \n",
            "                                                                                                  \n",
            " dropout_11 (Dropout)           (None, 257, 768)     0           ['dense_12[0][0]']               \n",
            "                                                                                                  \n",
            " add_11 (Add)                   (None, 257, 768)     0           ['dropout_11[0][0]',             \n",
            "                                                                  'add_10[0][0]']                 \n",
            "                                                                                                  \n",
            " layer_normalization_12 (LayerN  (None, 257, 768)    1536        ['add_11[0][0]']                 \n",
            " ormalization)                                                                                    \n",
            "                                                                                                  \n",
            " multi_head_attention_6 (MultiH  (None, 257, 768)    28339968    ['layer_normalization_12[0][0]', \n",
            " eadAttention)                                                    'layer_normalization_12[0][0]'] \n",
            "                                                                                                  \n",
            " add_12 (Add)                   (None, 257, 768)     0           ['multi_head_attention_6[0][0]', \n",
            "                                                                  'add_11[0][0]']                 \n",
            "                                                                                                  \n",
            " layer_normalization_13 (LayerN  (None, 257, 768)    1536        ['add_12[0][0]']                 \n",
            " ormalization)                                                                                    \n",
            "                                                                                                  \n",
            " dense_13 (Dense)               (None, 257, 3072)    2362368     ['layer_normalization_13[0][0]'] \n",
            "                                                                                                  \n",
            " dropout_12 (Dropout)           (None, 257, 3072)    0           ['dense_13[0][0]']               \n",
            "                                                                                                  \n",
            " dense_14 (Dense)               (None, 257, 768)     2360064     ['dropout_12[0][0]']             \n",
            "                                                                                                  \n",
            " dropout_13 (Dropout)           (None, 257, 768)     0           ['dense_14[0][0]']               \n",
            "                                                                                                  \n",
            " add_13 (Add)                   (None, 257, 768)     0           ['dropout_13[0][0]',             \n",
            "                                                                  'add_12[0][0]']                 \n",
            "                                                                                                  \n",
            " layer_normalization_14 (LayerN  (None, 257, 768)    1536        ['add_13[0][0]']                 \n",
            " ormalization)                                                                                    \n",
            "                                                                                                  \n",
            " multi_head_attention_7 (MultiH  (None, 257, 768)    28339968    ['layer_normalization_14[0][0]', \n",
            " eadAttention)                                                    'layer_normalization_14[0][0]'] \n",
            "                                                                                                  \n",
            " add_14 (Add)                   (None, 257, 768)     0           ['multi_head_attention_7[0][0]', \n",
            "                                                                  'add_13[0][0]']                 \n",
            "                                                                                                  \n",
            " layer_normalization_15 (LayerN  (None, 257, 768)    1536        ['add_14[0][0]']                 \n",
            " ormalization)                                                                                    \n",
            "                                                                                                  \n",
            " dense_15 (Dense)               (None, 257, 3072)    2362368     ['layer_normalization_15[0][0]'] \n",
            "                                                                                                  \n",
            " dropout_14 (Dropout)           (None, 257, 3072)    0           ['dense_15[0][0]']               \n",
            "                                                                                                  \n",
            " dense_16 (Dense)               (None, 257, 768)     2360064     ['dropout_14[0][0]']             \n",
            "                                                                                                  \n",
            " dropout_15 (Dropout)           (None, 257, 768)     0           ['dense_16[0][0]']               \n",
            "                                                                                                  \n",
            " add_15 (Add)                   (None, 257, 768)     0           ['dropout_15[0][0]',             \n",
            "                                                                  'add_14[0][0]']                 \n",
            "                                                                                                  \n",
            " layer_normalization_16 (LayerN  (None, 257, 768)    1536        ['add_15[0][0]']                 \n",
            " ormalization)                                                                                    \n",
            "                                                                                                  \n",
            " multi_head_attention_8 (MultiH  (None, 257, 768)    28339968    ['layer_normalization_16[0][0]', \n",
            " eadAttention)                                                    'layer_normalization_16[0][0]'] \n",
            "                                                                                                  \n",
            " add_16 (Add)                   (None, 257, 768)     0           ['multi_head_attention_8[0][0]', \n",
            "                                                                  'add_15[0][0]']                 \n",
            "                                                                                                  \n",
            " layer_normalization_17 (LayerN  (None, 257, 768)    1536        ['add_16[0][0]']                 \n",
            " ormalization)                                                                                    \n",
            "                                                                                                  \n",
            " dense_17 (Dense)               (None, 257, 3072)    2362368     ['layer_normalization_17[0][0]'] \n",
            "                                                                                                  \n",
            " dropout_16 (Dropout)           (None, 257, 3072)    0           ['dense_17[0][0]']               \n",
            "                                                                                                  \n",
            " dense_18 (Dense)               (None, 257, 768)     2360064     ['dropout_16[0][0]']             \n",
            "                                                                                                  \n",
            " dropout_17 (Dropout)           (None, 257, 768)     0           ['dense_18[0][0]']               \n",
            "                                                                                                  \n",
            " add_17 (Add)                   (None, 257, 768)     0           ['dropout_17[0][0]',             \n",
            "                                                                  'add_16[0][0]']                 \n",
            "                                                                                                  \n",
            " layer_normalization_18 (LayerN  (None, 257, 768)    1536        ['add_17[0][0]']                 \n",
            " ormalization)                                                                                    \n",
            "                                                                                                  \n",
            " multi_head_attention_9 (MultiH  (None, 257, 768)    28339968    ['layer_normalization_18[0][0]', \n",
            " eadAttention)                                                    'layer_normalization_18[0][0]'] \n",
            "                                                                                                  \n",
            " add_18 (Add)                   (None, 257, 768)     0           ['multi_head_attention_9[0][0]', \n",
            "                                                                  'add_17[0][0]']                 \n",
            "                                                                                                  \n",
            " layer_normalization_19 (LayerN  (None, 257, 768)    1536        ['add_18[0][0]']                 \n",
            " ormalization)                                                                                    \n",
            "                                                                                                  \n",
            " dense_19 (Dense)               (None, 257, 3072)    2362368     ['layer_normalization_19[0][0]'] \n",
            "                                                                                                  \n",
            " dropout_18 (Dropout)           (None, 257, 3072)    0           ['dense_19[0][0]']               \n",
            "                                                                                                  \n",
            " dense_20 (Dense)               (None, 257, 768)     2360064     ['dropout_18[0][0]']             \n",
            "                                                                                                  \n",
            " dropout_19 (Dropout)           (None, 257, 768)     0           ['dense_20[0][0]']               \n",
            "                                                                                                  \n",
            " add_19 (Add)                   (None, 257, 768)     0           ['dropout_19[0][0]',             \n",
            "                                                                  'add_18[0][0]']                 \n",
            "                                                                                                  \n",
            " layer_normalization_20 (LayerN  (None, 257, 768)    1536        ['add_19[0][0]']                 \n",
            " ormalization)                                                                                    \n",
            "                                                                                                  \n",
            " multi_head_attention_10 (Multi  (None, 257, 768)    28339968    ['layer_normalization_20[0][0]', \n",
            " HeadAttention)                                                   'layer_normalization_20[0][0]'] \n",
            "                                                                                                  \n",
            " add_20 (Add)                   (None, 257, 768)     0           ['multi_head_attention_10[0][0]',\n",
            "                                                                  'add_19[0][0]']                 \n",
            "                                                                                                  \n",
            " layer_normalization_21 (LayerN  (None, 257, 768)    1536        ['add_20[0][0]']                 \n",
            " ormalization)                                                                                    \n",
            "                                                                                                  \n",
            " dense_21 (Dense)               (None, 257, 3072)    2362368     ['layer_normalization_21[0][0]'] \n",
            "                                                                                                  \n",
            " dropout_20 (Dropout)           (None, 257, 3072)    0           ['dense_21[0][0]']               \n",
            "                                                                                                  \n",
            " dense_22 (Dense)               (None, 257, 768)     2360064     ['dropout_20[0][0]']             \n",
            "                                                                                                  \n",
            " dropout_21 (Dropout)           (None, 257, 768)     0           ['dense_22[0][0]']               \n",
            "                                                                                                  \n",
            " add_21 (Add)                   (None, 257, 768)     0           ['dropout_21[0][0]',             \n",
            "                                                                  'add_20[0][0]']                 \n",
            "                                                                                                  \n",
            " layer_normalization_22 (LayerN  (None, 257, 768)    1536        ['add_21[0][0]']                 \n",
            " ormalization)                                                                                    \n",
            "                                                                                                  \n",
            " multi_head_attention_11 (Multi  (None, 257, 768)    28339968    ['layer_normalization_22[0][0]', \n",
            " HeadAttention)                                                   'layer_normalization_22[0][0]'] \n",
            "                                                                                                  \n",
            " add_22 (Add)                   (None, 257, 768)     0           ['multi_head_attention_11[0][0]',\n",
            "                                                                  'add_21[0][0]']                 \n",
            "                                                                                                  \n",
            " layer_normalization_23 (LayerN  (None, 257, 768)    1536        ['add_22[0][0]']                 \n",
            " ormalization)                                                                                    \n",
            "                                                                                                  \n",
            " dense_23 (Dense)               (None, 257, 3072)    2362368     ['layer_normalization_23[0][0]'] \n",
            "                                                                                                  \n",
            " dropout_22 (Dropout)           (None, 257, 3072)    0           ['dense_23[0][0]']               \n",
            "                                                                                                  \n",
            " dense_24 (Dense)               (None, 257, 768)     2360064     ['dropout_22[0][0]']             \n",
            "                                                                                                  \n",
            " dropout_23 (Dropout)           (None, 257, 768)     0           ['dense_24[0][0]']               \n",
            "                                                                                                  \n",
            " add_23 (Add)                   (None, 257, 768)     0           ['dropout_23[0][0]',             \n",
            "                                                                  'add_22[0][0]']                 \n",
            "                                                                                                  \n",
            " layer_normalization_24 (LayerN  (None, 257, 768)    1536        ['add_23[0][0]']                 \n",
            " ormalization)                                                                                    \n",
            "                                                                                                  \n",
            " tf.__operators__.getitem (Slic  (None, 768)         0           ['layer_normalization_24[0][0]'] \n",
            " ingOpLambda)                                                                                     \n",
            "                                                                                                  \n",
            " dense_25 (Dense)               (None, 5)            3845        ['tf.__operators__.getitem[0][0]'\n",
            "                                                                 ]                                \n",
            "                                                                                                  \n",
            "==================================================================================================\n",
            "Total params: 399,151,877\n",
            "Trainable params: 399,151,877\n",
            "Non-trainable params: 0\n",
            "__________________________________________________________________________________________________\n"
          ]
        }
      ],
      "source": [
        "if __name__ == \"__main__\":\n",
        "    config = {}\n",
        "    config[\"num_layers\"] = 12\n",
        "    config[\"hidden_dim\"] = 768\n",
        "    config[\"mlp_dim\"] = 3072\n",
        "    config[\"num_heads\"] = 12\n",
        "    config[\"dropout_rate\"] = 0.1\n",
        "    config[\"num_patches\"] = 256\n",
        "    config[\"patch_size\"] = 32\n",
        "    config[\"num_channels\"] = 3\n",
        "    config[\"num_classes\"] = 5\n",
        "\n",
        "    model = ViT(config)\n",
        "    model.summary()"
      ]
    },
    {
      "cell_type": "code",
      "execution_count": null,
      "metadata": {
        "id": "KSpf91ulQabG"
      },
      "outputs": [],
      "source": [
        "model = ViT(hp)\n",
        "model.compile(\n",
        "    loss=\"binary_crossentropy\",\n",
        "    optimizer=tf.keras.optimizers.Adam(hp['lr'], clipvalue=1.0),\n",
        "    metrics=['acc']\n",
        ")"
      ]
    },
    {
      "cell_type": "code",
      "execution_count": null,
      "metadata": {
        "colab": {
          "base_uri": "https://localhost:8080/"
        },
        "id": "-09SdxnXQ0Mc",
        "outputId": "faf6a3a4-c6c9-41cb-fc86-b465aad3fdde"
      },
      "outputs": [
        {
          "output_type": "stream",
          "name": "stdout",
          "text": [
            "Epoch 1/50\n",
            "45/45 [==============================] - ETA: 0s - loss: 1.2330 - acc: 0.4868\n",
            "Epoch 1: val_loss improved from inf to 0.82684, saving model to files/model.h5\n",
            "45/45 [==============================] - 614s 12s/step - loss: 1.2330 - acc: 0.4868 - val_loss: 0.8268 - val_acc: 0.4393 - lr: 1.0000e-04\n",
            "Epoch 2/50\n",
            "45/45 [==============================] - ETA: 0s - loss: 0.7270 - acc: 0.5104\n",
            "Epoch 2: val_loss did not improve from 0.82684\n",
            "45/45 [==============================] - 101s 2s/step - loss: 0.7270 - acc: 0.5104 - val_loss: 0.8893 - val_acc: 0.4393 - lr: 1.0000e-04\n",
            "Epoch 3/50\n",
            "45/45 [==============================] - ETA: 0s - loss: 0.7244 - acc: 0.5251\n",
            "Epoch 3: val_loss did not improve from 0.82684\n",
            "45/45 [==============================] - 100s 2s/step - loss: 0.7244 - acc: 0.5251 - val_loss: 0.8675 - val_acc: 0.4393 - lr: 1.0000e-04\n",
            "Epoch 4/50\n",
            "45/45 [==============================] - ETA: 0s - loss: 0.7162 - acc: 0.5160\n",
            "Epoch 4: val_loss did not improve from 0.82684\n",
            "45/45 [==============================] - 97s 2s/step - loss: 0.7162 - acc: 0.5160 - val_loss: 0.8278 - val_acc: 0.4393 - lr: 1.0000e-04\n",
            "Epoch 5/50\n",
            "45/45 [==============================] - ETA: 0s - loss: 0.7065 - acc: 0.5111\n",
            "Epoch 5: val_loss improved from 0.82684 to 0.79755, saving model to files/model.h5\n",
            "45/45 [==============================] - 129s 3s/step - loss: 0.7065 - acc: 0.5111 - val_loss: 0.7975 - val_acc: 0.4393 - lr: 1.0000e-04\n",
            "Epoch 6/50\n",
            "45/45 [==============================] - ETA: 0s - loss: 0.7022 - acc: 0.5139\n",
            "Epoch 6: val_loss improved from 0.79755 to 0.77354, saving model to files/model.h5\n",
            "45/45 [==============================] - 131s 3s/step - loss: 0.7022 - acc: 0.5139 - val_loss: 0.7735 - val_acc: 0.4393 - lr: 1.0000e-04\n",
            "Epoch 7/50\n",
            "45/45 [==============================] - ETA: 0s - loss: 0.6938 - acc: 0.5258\n",
            "Epoch 7: val_loss improved from 0.77354 to 0.74591, saving model to files/model.h5\n",
            "45/45 [==============================] - 136s 3s/step - loss: 0.6938 - acc: 0.5258 - val_loss: 0.7459 - val_acc: 0.4393 - lr: 1.0000e-04\n",
            "Epoch 8/50\n",
            "45/45 [==============================] - ETA: 0s - loss: 0.6818 - acc: 0.5376\n",
            "Epoch 8: val_loss improved from 0.74591 to 0.72492, saving model to files/model.h5\n",
            "45/45 [==============================] - 121s 3s/step - loss: 0.6818 - acc: 0.5376 - val_loss: 0.7249 - val_acc: 0.4393 - lr: 1.0000e-04\n",
            "Epoch 9/50\n",
            "45/45 [==============================] - ETA: 0s - loss: 0.6692 - acc: 0.5669\n",
            "Epoch 9: val_loss improved from 0.72492 to 0.71182, saving model to files/model.h5\n",
            "45/45 [==============================] - 134s 3s/step - loss: 0.6692 - acc: 0.5669 - val_loss: 0.7118 - val_acc: 0.4393 - lr: 1.0000e-04\n",
            "Epoch 10/50\n",
            "45/45 [==============================] - ETA: 0s - loss: 0.6605 - acc: 0.5766\n",
            "Epoch 10: val_loss did not improve from 0.71182\n",
            "45/45 [==============================] - 97s 2s/step - loss: 0.6605 - acc: 0.5766 - val_loss: 0.7125 - val_acc: 0.4519 - lr: 1.0000e-04\n",
            "Epoch 11/50\n",
            "45/45 [==============================] - ETA: 0s - loss: 0.6521 - acc: 0.5947\n",
            "Epoch 11: val_loss improved from 0.71182 to 0.71009, saving model to files/model.h5\n",
            "45/45 [==============================] - 191s 4s/step - loss: 0.6521 - acc: 0.5947 - val_loss: 0.7101 - val_acc: 0.4874 - lr: 1.0000e-04\n",
            "Epoch 12/50\n",
            "45/45 [==============================] - ETA: 0s - loss: 0.6425 - acc: 0.6121\n",
            "Epoch 12: val_loss did not improve from 0.71009\n",
            "45/45 [==============================] - 100s 2s/step - loss: 0.6425 - acc: 0.6121 - val_loss: 0.7441 - val_acc: 0.4540 - lr: 1.0000e-04\n",
            "Epoch 13/50\n",
            "45/45 [==============================] - ETA: 0s - loss: 0.6450 - acc: 0.5982\n",
            "Epoch 13: val_loss did not improve from 0.71009\n",
            "45/45 [==============================] - 97s 2s/step - loss: 0.6450 - acc: 0.5982 - val_loss: 0.7753 - val_acc: 0.4393 - lr: 1.0000e-04\n",
            "Epoch 14/50\n",
            "45/45 [==============================] - ETA: 0s - loss: 0.6461 - acc: 0.6024\n",
            "Epoch 14: val_loss did not improve from 0.71009\n",
            "45/45 [==============================] - 97s 2s/step - loss: 0.6461 - acc: 0.6024 - val_loss: 0.7324 - val_acc: 0.4540 - lr: 1.0000e-04\n",
            "Epoch 15/50\n",
            "45/45 [==============================] - ETA: 0s - loss: 0.6214 - acc: 0.6295\n",
            "Epoch 15: val_loss improved from 0.71009 to 0.68296, saving model to files/model.h5\n",
            "45/45 [==============================] - 144s 3s/step - loss: 0.6214 - acc: 0.6295 - val_loss: 0.6830 - val_acc: 0.5084 - lr: 1.0000e-04\n",
            "Epoch 16/50\n",
            "45/45 [==============================] - ETA: 0s - loss: 0.5873 - acc: 0.6748\n",
            "Epoch 16: val_loss improved from 0.68296 to 0.68258, saving model to files/model.h5\n",
            "45/45 [==============================] - 194s 4s/step - loss: 0.5873 - acc: 0.6748 - val_loss: 0.6826 - val_acc: 0.5607 - lr: 1.0000e-04\n",
            "Epoch 17/50\n",
            "45/45 [==============================] - ETA: 0s - loss: 0.5591 - acc: 0.6978\n",
            "Epoch 17: val_loss improved from 0.68258 to 0.59758, saving model to files/model.h5\n",
            "45/45 [==============================] - 183s 4s/step - loss: 0.5591 - acc: 0.6978 - val_loss: 0.5976 - val_acc: 0.6255 - lr: 1.0000e-04\n",
            "Epoch 18/50\n",
            "45/45 [==============================] - ETA: 0s - loss: 0.5445 - acc: 0.7033\n",
            "Epoch 18: val_loss did not improve from 0.59758\n",
            "45/45 [==============================] - 100s 2s/step - loss: 0.5445 - acc: 0.7033 - val_loss: 0.6690 - val_acc: 0.5983 - lr: 1.0000e-04\n",
            "Epoch 19/50\n",
            "45/45 [==============================] - ETA: 0s - loss: 0.5457 - acc: 0.7110\n",
            "Epoch 19: val_loss improved from 0.59758 to 0.55787, saving model to files/model.h5\n",
            "45/45 [==============================] - 160s 4s/step - loss: 0.5457 - acc: 0.7110 - val_loss: 0.5579 - val_acc: 0.6799 - lr: 1.0000e-04\n",
            "Epoch 20/50\n",
            "45/45 [==============================] - ETA: 0s - loss: 0.4704 - acc: 0.7751\n",
            "Epoch 20: val_loss improved from 0.55787 to 0.55384, saving model to files/model.h5\n",
            "45/45 [==============================] - 132s 3s/step - loss: 0.4704 - acc: 0.7751 - val_loss: 0.5538 - val_acc: 0.6925 - lr: 1.0000e-04\n",
            "Epoch 21/50\n",
            "45/45 [==============================] - ETA: 0s - loss: 0.4504 - acc: 0.7827\n",
            "Epoch 21: val_loss improved from 0.55384 to 0.53763, saving model to files/model.h5\n",
            "45/45 [==============================] - 130s 3s/step - loss: 0.4504 - acc: 0.7827 - val_loss: 0.5376 - val_acc: 0.7092 - lr: 1.0000e-04\n",
            "Epoch 22/50\n",
            "45/45 [==============================] - ETA: 0s - loss: 0.4630 - acc: 0.7869\n",
            "Epoch 22: val_loss improved from 0.53763 to 0.41615, saving model to files/model.h5\n",
            "45/45 [==============================] - 165s 4s/step - loss: 0.4630 - acc: 0.7869 - val_loss: 0.4161 - val_acc: 0.7824 - lr: 1.0000e-04\n",
            "Epoch 23/50\n",
            "45/45 [==============================] - ETA: 0s - loss: 0.3926 - acc: 0.8224\n",
            "Epoch 23: val_loss improved from 0.41615 to 0.37001, saving model to files/model.h5\n",
            "45/45 [==============================] - 160s 4s/step - loss: 0.3926 - acc: 0.8224 - val_loss: 0.3700 - val_acc: 0.8431 - lr: 1.0000e-04\n",
            "Epoch 24/50\n",
            "45/45 [==============================] - ETA: 0s - loss: 0.4195 - acc: 0.7953\n",
            "Epoch 24: val_loss did not improve from 0.37001\n",
            "45/45 [==============================] - 100s 2s/step - loss: 0.4195 - acc: 0.7953 - val_loss: 0.6145 - val_acc: 0.6506 - lr: 1.0000e-04\n",
            "Epoch 25/50\n",
            "45/45 [==============================] - ETA: 0s - loss: 0.3901 - acc: 0.8238\n",
            "Epoch 25: val_loss improved from 0.37001 to 0.34509, saving model to files/model.h5\n",
            "45/45 [==============================] - 141s 3s/step - loss: 0.3901 - acc: 0.8238 - val_loss: 0.3451 - val_acc: 0.8640 - lr: 1.0000e-04\n",
            "Epoch 26/50\n",
            "45/45 [==============================] - ETA: 0s - loss: 0.2932 - acc: 0.8795\n",
            "Epoch 26: val_loss improved from 0.34509 to 0.32178, saving model to files/model.h5\n",
            "45/45 [==============================] - 133s 3s/step - loss: 0.2932 - acc: 0.8795 - val_loss: 0.3218 - val_acc: 0.8431 - lr: 1.0000e-04\n",
            "Epoch 27/50\n",
            "45/45 [==============================] - ETA: 0s - loss: 0.2637 - acc: 0.8907\n",
            "Epoch 27: val_loss improved from 0.32178 to 0.29320, saving model to files/model.h5\n",
            "45/45 [==============================] - 139s 3s/step - loss: 0.2637 - acc: 0.8907 - val_loss: 0.2932 - val_acc: 0.8766 - lr: 1.0000e-04\n",
            "Epoch 28/50\n",
            "45/45 [==============================] - ETA: 0s - loss: 0.2294 - acc: 0.9095\n",
            "Epoch 28: val_loss did not improve from 0.29320\n",
            "45/45 [==============================] - 96s 2s/step - loss: 0.2294 - acc: 0.9095 - val_loss: 0.3248 - val_acc: 0.8640 - lr: 1.0000e-04\n",
            "Epoch 29/50\n",
            "45/45 [==============================] - ETA: 0s - loss: 0.2485 - acc: 0.9004\n",
            "Epoch 29: val_loss did not improve from 0.29320\n",
            "45/45 [==============================] - 101s 2s/step - loss: 0.2485 - acc: 0.9004 - val_loss: 0.3035 - val_acc: 0.8598 - lr: 1.0000e-04\n",
            "Epoch 30/50\n",
            "45/45 [==============================] - ETA: 0s - loss: 0.2456 - acc: 0.8983\n",
            "Epoch 30: val_loss improved from 0.29320 to 0.26672, saving model to files/model.h5\n",
            "45/45 [==============================] - 127s 3s/step - loss: 0.2456 - acc: 0.8983 - val_loss: 0.2667 - val_acc: 0.8912 - lr: 1.0000e-04\n",
            "Epoch 31/50\n",
            "45/45 [==============================] - ETA: 0s - loss: 0.1673 - acc: 0.9450\n",
            "Epoch 31: val_loss did not improve from 0.26672\n",
            "45/45 [==============================] - 101s 2s/step - loss: 0.1673 - acc: 0.9450 - val_loss: 0.3261 - val_acc: 0.8556 - lr: 1.0000e-04\n",
            "Epoch 32/50\n",
            "45/45 [==============================] - ETA: 0s - loss: 0.2037 - acc: 0.9199\n",
            "Epoch 32: val_loss improved from 0.26672 to 0.19967, saving model to files/model.h5\n",
            "45/45 [==============================] - 169s 4s/step - loss: 0.2037 - acc: 0.9199 - val_loss: 0.1997 - val_acc: 0.9163 - lr: 1.0000e-04\n",
            "Epoch 33/50\n",
            "45/45 [==============================] - ETA: 0s - loss: 0.1893 - acc: 0.9185\n",
            "Epoch 33: val_loss did not improve from 0.19967\n",
            "45/45 [==============================] - 101s 2s/step - loss: 0.1893 - acc: 0.9185 - val_loss: 0.2561 - val_acc: 0.9079 - lr: 1.0000e-04\n",
            "Epoch 34/50\n",
            "45/45 [==============================] - ETA: 0s - loss: 0.1527 - acc: 0.9408\n",
            "Epoch 34: val_loss did not improve from 0.19967\n",
            "45/45 [==============================] - 100s 2s/step - loss: 0.1527 - acc: 0.9408 - val_loss: 0.2001 - val_acc: 0.9289 - lr: 1.0000e-04\n",
            "Epoch 35/50\n",
            "45/45 [==============================] - ETA: 0s - loss: 0.1356 - acc: 0.9457\n",
            "Epoch 35: val_loss did not improve from 0.19967\n",
            "45/45 [==============================] - 96s 2s/step - loss: 0.1356 - acc: 0.9457 - val_loss: 0.2513 - val_acc: 0.9017 - lr: 1.0000e-04\n",
            "Epoch 36/50\n",
            "45/45 [==============================] - ETA: 0s - loss: 0.1386 - acc: 0.9478\n",
            "Epoch 36: val_loss did not improve from 0.19967\n",
            "45/45 [==============================] - 96s 2s/step - loss: 0.1386 - acc: 0.9478 - val_loss: 0.2274 - val_acc: 0.9017 - lr: 1.0000e-04\n",
            "Epoch 37/50\n",
            "45/45 [==============================] - ETA: 0s - loss: 0.1143 - acc: 0.9554\n",
            "Epoch 37: val_loss improved from 0.19967 to 0.16760, saving model to files/model.h5\n",
            "45/45 [==============================] - 165s 4s/step - loss: 0.1143 - acc: 0.9554 - val_loss: 0.1676 - val_acc: 0.9331 - lr: 1.0000e-04\n",
            "Epoch 38/50\n",
            "45/45 [==============================] - ETA: 0s - loss: 0.1295 - acc: 0.9450\n",
            "Epoch 38: val_loss did not improve from 0.16760\n",
            "45/45 [==============================] - 100s 2s/step - loss: 0.1295 - acc: 0.9450 - val_loss: 0.2583 - val_acc: 0.8996 - lr: 1.0000e-04\n",
            "Epoch 39/50\n",
            "45/45 [==============================] - ETA: 0s - loss: 0.2089 - acc: 0.9150\n",
            "Epoch 39: val_loss did not improve from 0.16760\n",
            "45/45 [==============================] - 96s 2s/step - loss: 0.2089 - acc: 0.9150 - val_loss: 0.5169 - val_acc: 0.7950 - lr: 1.0000e-04\n",
            "Epoch 40/50\n",
            "45/45 [==============================] - ETA: 0s - loss: 0.1581 - acc: 0.9450\n",
            "Epoch 40: val_loss did not improve from 0.16760\n",
            "45/45 [==============================] - 97s 2s/step - loss: 0.1581 - acc: 0.9450 - val_loss: 0.1755 - val_acc: 0.9289 - lr: 1.0000e-04\n",
            "Epoch 41/50\n",
            "45/45 [==============================] - ETA: 0s - loss: 0.0845 - acc: 0.9694\n",
            "Epoch 41: val_loss improved from 0.16760 to 0.15777, saving model to files/model.h5\n",
            "45/45 [==============================] - 142s 3s/step - loss: 0.0845 - acc: 0.9694 - val_loss: 0.1578 - val_acc: 0.9435 - lr: 1.0000e-04\n",
            "Epoch 42/50\n",
            "45/45 [==============================] - ETA: 0s - loss: 0.2309 - acc: 0.9143\n",
            "Epoch 42: val_loss did not improve from 0.15777\n",
            "45/45 [==============================] - 96s 2s/step - loss: 0.2309 - acc: 0.9143 - val_loss: 0.2566 - val_acc: 0.9059 - lr: 1.0000e-04\n",
            "Epoch 43/50\n",
            "45/45 [==============================] - ETA: 0s - loss: 0.1400 - acc: 0.9526\n",
            "Epoch 43: val_loss did not improve from 0.15777\n",
            "45/45 [==============================] - 96s 2s/step - loss: 0.1400 - acc: 0.9526 - val_loss: 0.2323 - val_acc: 0.9121 - lr: 1.0000e-04\n",
            "Epoch 44/50\n",
            "45/45 [==============================] - ETA: 0s - loss: 0.1137 - acc: 0.9547\n",
            "Epoch 44: val_loss did not improve from 0.15777\n",
            "45/45 [==============================] - 96s 2s/step - loss: 0.1137 - acc: 0.9547 - val_loss: 0.2225 - val_acc: 0.9247 - lr: 1.0000e-04\n",
            "Epoch 45/50\n",
            "45/45 [==============================] - ETA: 0s - loss: 0.1980 - acc: 0.9255\n",
            "Epoch 45: val_loss did not improve from 0.15777\n",
            "45/45 [==============================] - 97s 2s/step - loss: 0.1980 - acc: 0.9255 - val_loss: 0.2684 - val_acc: 0.8996 - lr: 1.0000e-04\n",
            "Epoch 46/50\n",
            "45/45 [==============================] - ETA: 0s - loss: 0.1142 - acc: 0.9547\n",
            "Epoch 46: val_loss did not improve from 0.15777\n",
            "45/45 [==============================] - 100s 2s/step - loss: 0.1142 - acc: 0.9547 - val_loss: 0.2866 - val_acc: 0.8891 - lr: 1.0000e-04\n"
          ]
        },
        {
          "output_type": "stream",
          "name": "stderr",
          "text": [
            "WARNING:absl:Found untraced functions such as query_layer_call_fn, query_layer_call_and_return_conditional_losses, key_layer_call_fn, key_layer_call_and_return_conditional_losses, value_layer_call_fn while saving (showing 5 of 144). These functions will not be directly callable after loading.\n"
          ]
        }
      ],
      "source": [
        "    from tensorflow.keras.callbacks import ModelCheckpoint, CSVLogger, ReduceLROnPlateau, EarlyStopping\n",
        "\n",
        "    callbacks = [\n",
        "        ModelCheckpoint(model_path, monitor='val_loss', verbose=1, save_best_only=True),\n",
        "        ReduceLROnPlateau(monitor='val_loss', factor=0.1, patience=10, min_lr=1e-10, verbose=1),\n",
        "        CSVLogger(csv_path),\n",
        "        EarlyStopping(monitor='val_loss', patience=5, restore_best_weights=False),\n",
        "    ]\n",
        "\n",
        "    model.fit(\n",
        "        train_ds,\n",
        "        epochs=hp[\"num_epochs\"],\n",
        "        validation_data=valid_ds,\n",
        "        callbacks=callbacks\n",
        "    )\n",
        "    model.save('/content/drive/MyDrive/MonReader/files/my_model_entire')"
      ]
    },
    {
      "cell_type": "code",
      "source": [
        "# Save the weights\n",
        "model.save_weights('/content/drive/MyDrive/MonReader/files/model.h5')"
      ],
      "metadata": {
        "id": "zoPdDe3Om_uu"
      },
      "execution_count": null,
      "outputs": []
    },
    {
      "cell_type": "code",
      "source": [
        "model.save('/content/drive/MyDrive/MonReader/files/my_model')"
      ],
      "metadata": {
        "id": "5BuMD1K6qi2E",
        "colab": {
          "base_uri": "https://localhost:8080/"
        },
        "outputId": "ba6b60e3-7d66-4d72-bea0-5f52fa351d03"
      },
      "execution_count": null,
      "outputs": [
        {
          "output_type": "stream",
          "name": "stderr",
          "text": [
            "WARNING:absl:Found untraced functions such as query_layer_call_fn, query_layer_call_and_return_conditional_losses, key_layer_call_fn, key_layer_call_and_return_conditional_losses, value_layer_call_fn while saving (showing 5 of 144). These functions will not be directly callable after loading.\n"
          ]
        }
      ]
    },
    {
      "cell_type": "code",
      "source": [
        "model = tf.keras.models.load_model('/content/drive/MyDrive/MonReader/files/model.h5')"
      ],
      "metadata": {
        "id": "Z2DDYg1e37hi"
      },
      "execution_count": null,
      "outputs": []
    },
    {
      "cell_type": "markdown",
      "source": [],
      "metadata": {
        "id": "IYhCiGFFZANJ"
      }
    },
    {
      "cell_type": "code",
      "source": [
        "test_ds = tf_dataset(test_x, batch=hp['batch_size'])\n",
        "model.evaluate(test_ds)"
      ],
      "metadata": {
        "colab": {
          "base_uri": "https://localhost:8080/"
        },
        "id": "yVJbb72v7mPS",
        "outputId": "0ece1b96-58a8-4706-bd6d-6845dfa6d025"
      },
      "execution_count": null,
      "outputs": [
        {
          "output_type": "stream",
          "name": "stdout",
          "text": [
            "19/19 [==============================] - 163s 8s/step - loss: 0.3016 - acc: 0.8995\n"
          ]
        },
        {
          "output_type": "execute_result",
          "data": {
            "text/plain": [
              "[0.3015839159488678, 0.8994975090026855]"
            ]
          },
          "metadata": {},
          "execution_count": 28
        }
      ]
    },
    {
      "cell_type": "code",
      "source": [
        "test_predictions = model.predict(test_ds)"
      ],
      "metadata": {
        "colab": {
          "base_uri": "https://localhost:8080/"
        },
        "id": "ecfV0jrX-nK-",
        "outputId": "4769af7f-4ace-4881-f494-cc680548ef8a"
      },
      "execution_count": null,
      "outputs": [
        {
          "output_type": "stream",
          "name": "stdout",
          "text": [
            "19/19 [==============================] - 30s 1s/step\n"
          ]
        }
      ]
    },
    {
      "cell_type": "markdown",
      "source": [
        "## Getting the predicted labels"
      ],
      "metadata": {
        "id": "3pViw4BRFVU6"
      }
    },
    {
      "cell_type": "code",
      "source": [
        "binary_labels = np.argmax(test_predictions, axis=1)\n",
        "binary_labels\n",
        "\n"
      ],
      "metadata": {
        "colab": {
          "base_uri": "https://localhost:8080/"
        },
        "id": "AKIStDAx_zjV",
        "outputId": "28a6f015-e8b3-4de1-f5c9-70c28a5da5e7"
      },
      "execution_count": null,
      "outputs": [
        {
          "output_type": "execute_result",
          "data": {
            "text/plain": [
              "array([1, 1, 0, 0, 1, 0, 0, 0, 0, 1, 1, 1, 1, 1, 1, 1, 1, 1, 0, 0, 1, 1,\n",
              "       0, 1, 1, 1, 0, 0, 0, 1, 0, 0, 0, 0, 1, 1, 1, 0, 1, 1, 1, 1, 1, 1,\n",
              "       1, 0, 0, 1, 1, 1, 1, 1, 0, 1, 1, 1, 0, 0, 1, 1, 0, 0, 0, 1, 1, 1,\n",
              "       1, 1, 1, 0, 0, 0, 0, 0, 1, 0, 0, 1, 1, 1, 0, 1, 0, 1, 1, 1, 0, 0,\n",
              "       1, 1, 0, 1, 1, 1, 0, 1, 0, 1, 1, 0, 1, 1, 1, 0, 1, 0, 1, 1, 0, 1,\n",
              "       1, 0, 1, 1, 1, 1, 0, 0, 1, 0, 0, 1, 1, 0, 1, 1, 1, 1, 0, 1, 0, 1,\n",
              "       0, 0, 1, 0, 0, 1, 0, 1, 0, 1, 1, 0, 0, 1, 1, 1, 0, 1, 1, 0, 0, 0,\n",
              "       0, 1, 1, 1, 1, 1, 1, 0, 1, 1, 0, 1, 1, 0, 1, 0, 0, 0, 1, 1, 1, 1,\n",
              "       1, 1, 0, 1, 1, 1, 1, 0, 1, 0, 1, 0, 1, 1, 0, 0, 1, 1, 0, 0, 0, 0,\n",
              "       0, 0, 1, 0, 0, 0, 0, 0, 0, 1, 1, 0, 1, 0, 1, 1, 1, 1, 0, 1, 0, 1,\n",
              "       0, 1, 1, 0, 0, 0, 1, 0, 1, 0, 0, 0, 0, 0, 1, 1, 1, 1, 0, 0, 1, 1,\n",
              "       1, 1, 1, 0, 0, 1, 1, 1, 1, 1, 1, 0, 1, 1, 1, 1, 1, 1, 1, 1, 0, 0,\n",
              "       1, 0, 0, 0, 0, 1, 0, 0, 1, 1, 0, 0, 1, 1, 1, 0, 1, 1, 1, 1, 0, 0,\n",
              "       1, 0, 0, 0, 0, 1, 0, 1, 0, 1, 0, 1, 0, 1, 1, 0, 1, 1, 1, 1, 0, 0,\n",
              "       1, 1, 0, 0, 1, 1, 0, 0, 1, 1, 1, 0, 0, 1, 0, 0, 1, 1, 1, 1, 0, 0,\n",
              "       0, 1, 1, 0, 1, 0, 1, 0, 1, 1, 1, 1, 1, 1, 1, 1, 0, 1, 1, 0, 0, 1,\n",
              "       1, 1, 0, 1, 1, 1, 0, 0, 0, 0, 0, 0, 1, 1, 1, 0, 0, 0, 1, 1, 1, 0,\n",
              "       1, 1, 1, 1, 1, 1, 1, 1, 1, 0, 1, 1, 0, 1, 1, 1, 1, 1, 0, 0, 0, 0,\n",
              "       1, 0, 1, 0, 1, 1, 1, 0, 1, 1, 1, 1, 0, 1, 0, 1, 0, 1, 0, 0, 1, 1,\n",
              "       0, 1, 1, 0, 1, 1, 1, 0, 0, 1, 1, 0, 1, 0, 0, 1, 1, 0, 1, 0, 1, 0,\n",
              "       0, 0, 1, 1, 0, 1, 1, 0, 0, 1, 1, 0, 0, 1, 1, 0, 1, 0, 1, 0, 1, 1,\n",
              "       0, 1, 1, 1, 0, 1, 1, 0, 1, 0, 0, 1, 1, 0, 0, 0, 0, 0, 0, 1, 1, 1,\n",
              "       1, 0, 1, 0, 0, 0, 1, 1, 0, 1, 0, 1, 0, 1, 1, 0, 1, 1, 1, 0, 1, 0,\n",
              "       1, 1, 1, 0, 0, 1, 0, 1, 1, 0, 0, 0, 0, 1, 1, 0, 0, 0, 1, 0, 1, 1,\n",
              "       0, 0, 0, 1, 1, 1, 1, 0, 1, 1, 1, 1, 0, 0, 0, 1, 1, 1, 1, 0, 1, 0,\n",
              "       0, 1, 0, 0, 0, 0, 0, 1, 0, 1, 1, 0, 0, 0, 1, 1, 1, 1, 0, 0, 1, 0,\n",
              "       0, 1, 0, 1, 0, 1, 0, 0, 0, 0, 0, 1, 1, 0, 1, 0, 1, 0, 0, 1, 1, 1,\n",
              "       0, 1, 1])"
            ]
          },
          "metadata": {},
          "execution_count": 48
        }
      ]
    },
    {
      "cell_type": "markdown",
      "source": [
        "## Getting the test labels"
      ],
      "metadata": {
        "id": "J6Dnsj4lFTm-"
      }
    },
    {
      "cell_type": "code",
      "source": [
        "label_list = []\n",
        "\n",
        "for patches, labels in test_ds:\n",
        "    label_list.extend(labels)\n",
        "\n",
        "# Convert the labels based on the specified conditions\n",
        "converted_labels = [0 if label[0] == 1 else 1 for label in label_list]\n",
        "\n",
        "print(converted_labels)"
      ],
      "metadata": {
        "colab": {
          "base_uri": "https://localhost:8080/"
        },
        "id": "Wj-qjadJDKAX",
        "outputId": "94c47f68-291c-45bf-fc11-6a6c44deaad1"
      },
      "execution_count": null,
      "outputs": [
        {
          "output_type": "stream",
          "name": "stdout",
          "text": [
            "[1, 1, 0, 0, 1, 0, 0, 0, 0, 1, 1, 1, 1, 0, 1, 1, 1, 0, 0, 0, 1, 1, 0, 1, 1, 1, 0, 0, 0, 1, 0, 0, 0, 0, 1, 1, 1, 0, 0, 1, 1, 1, 1, 1, 1, 0, 0, 1, 1, 1, 1, 1, 0, 1, 1, 1, 0, 0, 1, 1, 0, 0, 0, 1, 1, 1, 0, 1, 1, 0, 0, 0, 0, 0, 0, 0, 0, 1, 1, 0, 0, 1, 0, 1, 1, 1, 0, 0, 1, 1, 0, 0, 1, 1, 0, 1, 0, 0, 1, 0, 1, 1, 1, 1, 1, 0, 1, 1, 0, 1, 1, 0, 0, 1, 0, 1, 0, 0, 1, 0, 0, 1, 1, 0, 1, 1, 1, 1, 0, 1, 0, 0, 0, 0, 1, 0, 1, 0, 0, 1, 0, 0, 0, 0, 0, 1, 1, 1, 0, 1, 1, 0, 0, 0, 0, 0, 1, 1, 1, 0, 1, 0, 1, 1, 0, 1, 1, 0, 0, 1, 0, 0, 1, 1, 1, 1, 1, 1, 0, 1, 1, 1, 1, 0, 1, 0, 1, 0, 1, 1, 0, 0, 1, 1, 0, 0, 0, 0, 0, 0, 1, 0, 0, 0, 0, 0, 0, 1, 1, 0, 1, 0, 1, 1, 1, 1, 0, 1, 0, 1, 0, 1, 1, 0, 0, 0, 1, 0, 1, 0, 0, 0, 0, 0, 1, 1, 1, 1, 0, 0, 1, 1, 1, 1, 1, 0, 0, 1, 1, 1, 1, 1, 0, 0, 1, 1, 1, 1, 1, 1, 1, 1, 0, 0, 1, 0, 1, 0, 0, 0, 0, 0, 1, 1, 0, 0, 1, 1, 0, 0, 1, 1, 1, 1, 1, 0, 0, 0, 0, 0, 0, 1, 0, 1, 1, 1, 0, 1, 0, 1, 1, 1, 1, 0, 1, 1, 0, 0, 1, 0, 0, 0, 1, 1, 0, 0, 0, 1, 1, 0, 0, 1, 0, 1, 1, 1, 0, 1, 0, 0, 0, 1, 0, 0, 0, 0, 1, 0, 1, 1, 1, 1, 1, 1, 1, 1, 0, 1, 1, 0, 0, 1, 1, 1, 0, 0, 0, 0, 0, 0, 1, 0, 0, 0, 1, 1, 1, 0, 0, 0, 1, 1, 1, 0, 1, 1, 1, 1, 1, 1, 1, 1, 1, 0, 1, 1, 0, 1, 1, 1, 1, 1, 0, 0, 0, 0, 1, 0, 1, 0, 1, 1, 1, 0, 1, 1, 1, 1, 1, 1, 0, 1, 0, 1, 0, 0, 0, 1, 1, 1, 1, 0, 1, 1, 1, 0, 0, 1, 1, 0, 1, 0, 0, 1, 1, 0, 0, 0, 1, 0, 0, 0, 1, 1, 0, 1, 1, 0, 0, 1, 0, 0, 1, 1, 1, 0, 1, 0, 1, 0, 1, 1, 0, 1, 1, 1, 0, 1, 1, 0, 1, 0, 0, 1, 1, 0, 0, 0, 0, 0, 0, 0, 1, 1, 1, 0, 1, 0, 0, 1, 1, 1, 0, 0, 0, 0, 0, 1, 0, 0, 1, 1, 0, 0, 1, 0, 0, 1, 1, 0, 0, 0, 0, 1, 1, 0, 0, 0, 0, 0, 1, 0, 0, 0, 1, 0, 1, 0, 0, 0, 0, 1, 1, 1, 1, 0, 1, 1, 1, 1, 1, 0, 0, 1, 1, 1, 1, 0, 1, 0, 0, 1, 0, 0, 0, 0, 0, 0, 0, 1, 1, 0, 0, 0, 1, 1, 1, 1, 0, 0, 1, 0, 0, 1, 0, 0, 0, 1, 1, 0, 0, 0, 0, 1, 1, 0, 1, 0, 1, 0, 0, 1, 0, 1, 0, 1, 1]\n"
          ]
        }
      ]
    },
    {
      "cell_type": "code",
      "source": [
        "import matplotlib.pyplot as plt\n",
        "import seaborn as sns\n",
        "from sklearn.metrics import confusion_matrix\n",
        "\n",
        "\n",
        "# Compute confusion matrix\n",
        "confusion_mat = confusion_matrix(converted_labels, binary_labels)\n",
        "\n",
        "# Create a heatmap plot\n",
        "plt.figure(figsize=(8, 6))\n",
        "sns.heatmap(confusion_mat, annot=True, fmt='d', cmap='Blues')\n",
        "plt.xlabel('Predicted Labels')\n",
        "plt.ylabel('True Labels')\n",
        "plt.title('Confusion Matrix')\n",
        "plt.show()\n"
      ],
      "metadata": {
        "colab": {
          "base_uri": "https://localhost:8080/",
          "height": 564
        },
        "id": "mY58IyOm75yT",
        "outputId": "558ae151-e72c-43b9-d376-1b0dd99a3913"
      },
      "execution_count": null,
      "outputs": [
        {
          "output_type": "display_data",
          "data": {
            "text/plain": [
              "<Figure size 800x600 with 2 Axes>"
            ],
            "image/png": "[encoded data removed]"
          },
          "metadata": {}
        }
      ]
    },
    {
      "cell_type": "markdown",
      "source": [
        "## Vision Transformer summary\n",
        "\n",
        "Training accuracy: 0.96\n",
        "\n",
        "Loss: 0.0845\n",
        "\n",
        "validation accuracy: 0.94\n",
        "\n",
        "Validation loss: 0.16\n",
        "\n",
        "Test accuracy: 0.9\n",
        "\n",
        "Test loss: 0.3\n",
        "\n",
        "## 2D CNN\n",
        "\n",
        "Results for the test data:\n",
        "          precision    recall  f1-score   support\n",
        "\n",
        "           0       1.00      0.93      0.96       290\n",
        "           1       0.94      1.00      0.97       307\n",
        "\n",
        "    accuracy                           0.96       597\n"
      ],
      "metadata": {
        "id": "C1ELgdfZYymb"
      }
    }
  ],
  "metadata": {
    "accelerator": "GPU",
    "colab": {
      "provenance": [],
      "gpuType": "T4",
      "toc_visible": true,
      "mount_file_id": "1xGFPCvCFiG5hYKuHT2qPEKzN-_F5MBQB",
      "authorship_tag": "ABX9TyNiBaZqxEvkDYHSC5qp28N6",
      "include_colab_link": true
    },
    "kernelspec": {
      "display_name": "Python 3",
      "name": "python3"
    },
    "language_info": {
      "name": "python"
    }
  },
  "nbformat": 4,
  "nbformat_minor": 0
}